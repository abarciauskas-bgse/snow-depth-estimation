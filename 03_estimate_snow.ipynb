{
 "cells": [
  {
   "cell_type": "code",
   "execution_count": 8,
   "id": "aaf11f25",
   "metadata": {},
   "outputs": [],
   "source": [
    "from concurrent.futures import ThreadPoolExecutor, as_completed\n",
    "import earthaccess\n",
    "import joblib\n",
    "import json\n",
    "import pandas as pd\n",
    "from shapely.geometry import shape\n",
    "import xarray as xr\n",
    "from typing import Dict, Any\n",
    "import fsspec\n",
    "from pystac_client import Client\n",
    "\n",
    "import data_classes\n"
   ]
  },
  {
   "cell_type": "code",
   "execution_count": 2,
   "id": "a22d6f6c",
   "metadata": {},
   "outputs": [],
   "source": [
    "# Load model\n",
    "model = joblib.load('random_forest_model.pkl')\n",
    "\n",
    "# Load scalers\n",
    "X_scaler = joblib.load('X_scaler.pkl')\n",
    "Y_scaler = joblib.load('Y_scaler.pkl')"
   ]
  },
  {
   "cell_type": "code",
   "execution_count": 3,
   "id": "686a1123",
   "metadata": {},
   "outputs": [],
   "source": [
    "with open('ski_areas.geojson', 'r') as f:\n",
    "    ski_areas = json.load(f)\n"
   ]
  },
  {
   "cell_type": "code",
   "execution_count": 4,
   "id": "044464c9",
   "metadata": {},
   "outputs": [
    {
     "data": {
      "text/plain": [
       "17"
      ]
     },
     "execution_count": 4,
     "metadata": {},
     "output_type": "execute_result"
    }
   ],
   "source": [
    "def is_wa_ski_site(area):\n",
    "    return area['properties']['location'] and area['properties']['location']['iso3166_2'] == 'US-WA' and area['geometry']['type'] != 'Point'\n",
    "wa_ski_sites = [area for area in ski_areas['features'] if is_wa_ski_site(area)]\n",
    "\n",
    "len(wa_ski_sites)"
   ]
  },
  {
   "cell_type": "code",
   "execution_count": 5,
   "id": "f52b65df",
   "metadata": {},
   "outputs": [],
   "source": [
    "crystal_mountain_area = [site for site in wa_ski_sites if site['properties']['name'] == 'Crystal Mountain'][0]\n",
    "# crystal_mountain_area"
   ]
  },
  {
   "cell_type": "code",
   "execution_count": 6,
   "id": "e6b32cf4",
   "metadata": {},
   "outputs": [
    {
     "name": "stdout",
     "output_type": "stream",
     "text": [
      "\n",
      "Direct bounds: (-121.5089145, 46.90889530000001, -121.46718410000003, 46.9567407)\n"
     ]
    }
   ],
   "source": [
    "# Alternative: Get bounds directly from shapely geometry\n",
    "crystal_polygon = shape(crystal_mountain_area['geometry'])\n",
    "crystal_bounds = crystal_polygon.bounds  # Returns (minx, miny, maxx, maxy)\n",
    "\n",
    "print(f\"\\nDirect bounds: {crystal_bounds}\")"
   ]
  },
  {
   "cell_type": "code",
   "execution_count": 7,
   "id": "7f7fd0e3",
   "metadata": {},
   "outputs": [
    {
     "data": {
      "image/svg+xml": [
       "<svg xmlns=\"http://www.w3.org/2000/svg\" xmlns:xlink=\"http://www.w3.org/1999/xlink\" width=\"100.0\" height=\"100.0\" viewBox=\"-121.510828316 46.90698148400001 0.04555803199997399 0.0516730319999823\" preserveAspectRatio=\"xMinYMin meet\"><g transform=\"matrix(1,0,0,-1,0,93.86563600000001)\"><path fill-rule=\"evenodd\" fill=\"#66cc99\" stroke=\"#555555\" stroke-width=\"0.001033460639999646\" opacity=\"0.6\" d=\"M -121.50171950000002,46.9504336 L -121.5018603,46.9497608 L -121.50164440000003,46.9488948 L -121.5013491,46.9485249 L -121.50112790000003,46.9483435 L -121.50126980000003,46.947676699999995 L -121.50167360000003,46.9467916 L -121.5011522,46.94581820000001 L -121.5005976,46.944964599999985 L -121.5005101,46.9445299 L -121.50069940000003,46.9437433 L -121.5007359,46.940863599999986 L -121.5008673,46.9405062 L -121.50106140000003,46.9399234 L -121.5009095,46.9378759 L -121.50110090000003,46.937552900000014 L -121.5011573,46.9374578 L -121.5019403,46.936683 L -121.5021007,46.9350975 L -121.50163160000002,46.9332348 L -121.5018958,46.9319782 L -121.5028112,46.93133990000001 L -121.5039188,46.9305472 L -121.5039931,46.9304688 L -121.50486980000002,46.92954330000001 L -121.505065,46.92878 L -121.50533759999996,46.92817920000002 L -121.5056218,46.9279917 L -121.50591829999998,46.9269407 L -121.50634279999997,46.926506 L -121.50718420000003,46.92576370000001 L -121.5077224,46.925011900000015 L -121.5078163,46.92465290000001 L -121.50808009999997,46.92413170000001 L -121.50822910000002,46.9232625 L -121.5089145,46.9219347 L -121.5089082,46.92140230000001 L -121.50875829999997,46.9209206 L -121.50834909999998,46.9203271 L -121.5075071,46.919497599999985 L -121.50785450000002,46.9182342 L -121.5081559,46.917952 L -121.5079173,46.9169922 L -121.50751190000003,46.916457199999996 L -121.5049841,46.9133776 L -121.5038947,46.911540699999996 L -121.50257809999997,46.9105117 L -121.5016323,46.9100392 L -121.49998090000003,46.9094525 L -121.49914900000003,46.909304 L -121.49891840000002,46.9091545 L -121.49779430000002,46.90889530000001 L -121.49771740000003,46.909004 L -121.49750090000003,46.90930990000001 L -121.49661430000003,46.91158449999998 L -121.4953151,46.91270290000001 L -121.49339930000002,46.9134752 L -121.49177490000002,46.9137766 L -121.4903513,46.91493230000001 L -121.48807869999997,46.916894499999984 L -121.48671279999998,46.918384 L -121.48399260000002,46.919324 L -121.4835378,46.9207655 L -121.4820051,46.92253890000002 L -121.4809363,46.92245890000002 L -121.479474,46.92369220000001 L -121.4793055,46.9248279 L -121.4790079,46.9263418 L -121.4778925,46.928182800000016 L -121.475439,46.9306938 L -121.47422050000003,46.9305571 L -121.4736451,46.9313257 L -121.47373769999997,46.9330457 L -121.4688705,46.9305514 L -121.4675821,46.930461 L -121.46718410000003,46.9304331 L -121.4674788,46.9313848 L -121.4692323,46.9324272 L -121.4693285,46.93351920000001 L -121.470232,46.9339949 L -121.4703905,46.93561490000001 L -121.47059829999998,46.9374292 L -121.4708474,46.9390066 L -121.4714738,46.9403077 L -121.4719687,46.9408013 L -121.4722832,46.9405668 L -121.4714729,46.9391249 L -121.47169760000003,46.9374069 L -121.47257509999997,46.9364708 L -121.4735312,46.9360447 L -121.47519799999998,46.935838900000014 L -121.47533579999997,46.93514000000001 L -121.47567649999998,46.935202300000014 L -121.4761962,46.9364299 L -121.47715240000002,46.937604599999986 L -121.4783344,46.9393604 L -121.4785072,46.9409999 L -121.4781354,46.94147099999999 L -121.4778591,46.94315990000001 L -121.4784203,46.94444639999999 L -121.4775325,46.944744799999995 L -121.475697,46.94536210000001 L -121.4736558,46.946499 L -121.47377509999997,46.946847299999995 L -121.4747445,46.9467395 L -121.4762608,46.9469763 L -121.4778059,46.947489299999994 L -121.47838479999997,46.9487461 L -121.47871269999997,46.950063899999996 L -121.4794222,46.95068749999998 L -121.48042660000003,46.952386 L -121.48066670000003,46.9524699 L -121.48194990000003,46.954008599999995 L -121.48418310000002,46.954740699999995 L -121.48531340000002,46.9555992 L -121.4860062,46.955572900000014 L -121.48631,46.956206499999986 L -121.48704790000002,46.9564303 L -121.4884964,46.9567407 L -121.4887054,46.9567279 L -121.4888374,46.9566727 L -121.4892021,46.9564983 L -121.49465630000003,46.9559239 L -121.49611920000004,46.954777199999995 L -121.4968127,46.954467999999984 L -121.49871560000003,46.953620099999995 L -121.49969270000003,46.953335 L -121.501076,46.9529317 L -121.5014629,46.9526331 L -121.502063,46.95217010000001 L -121.50171950000002,46.9504336 z M -121.49474160000003,46.941140499999996 L -121.49480950000003,46.9417221 L -121.49391040000003,46.9420629 L -121.4924459,46.94198749999998 L -121.49141510000003,46.9415336 L -121.49100160000003,46.9414586 L -121.490375,46.940984099999994 L -121.49029440000004,46.940863799999995 L -121.49048440000003,46.9405006 L -121.49050470000003,46.9398341 L -121.49051530000003,46.939487299999996 L -121.49068140000003,46.9390258 L -121.49140350000003,46.93871900000001 L -121.4927677,46.938433 L -121.4935423,46.9385834 L -121.49407070000002,46.9390942 L -121.4947331,46.9394956 L -121.4951882,46.94006639999999 L -121.4952088,46.940676 L -121.49474160000003,46.941140499999996 z\" /></g></svg>"
      ],
      "text/plain": [
       "<POLYGON ((-121.502 46.95, -121.502 46.95, -121.502 46.949, -121.501 46.949,...>"
      ]
     },
     "execution_count": 7,
     "metadata": {},
     "output_type": "execute_result"
    }
   ],
   "source": [
    "crystal_polygon"
   ]
  },
  {
   "cell_type": "code",
   "execution_count": 9,
   "id": "781ddd38",
   "metadata": {},
   "outputs": [],
   "source": [
    "stac_api = \"https://landsatlook.usgs.gov/stac-server\"\n",
    "collections =  [\"landsat-c2ard-sr\"] # \"landsat-c2l3-fsca\" will also be used for snow cover fraction\n",
    "fs = fsspec.filesystem(\"s3\", anon=False, requester_pays=True)\n",
    "start_date, end_date = '2002-01-01', '2002-12-31'"
   ]
  },
  {
   "cell_type": "code",
   "execution_count": 10,
   "id": "21878ebf",
   "metadata": {},
   "outputs": [
    {
     "data": {
      "text/plain": [
       "74"
      ]
     },
     "execution_count": 10,
     "metadata": {},
     "output_type": "execute_result"
    }
   ],
   "source": [
    "client = Client.open(stac_api)\n",
    "landsat_item_search = client.search(\n",
    "    collections=collections,\n",
    "    bbox=crystal_bounds,\n",
    "    datetime=(start_date, end_date)\n",
    ")\n",
    "\n",
    "landsat_item_search.matched()"
   ]
  },
  {
   "cell_type": "code",
   "execution_count": 11,
   "id": "8b6230bb",
   "metadata": {},
   "outputs": [],
   "source": [
    "landsat_items = landsat_item_search.item_collection()"
   ]
  },
  {
   "cell_type": "code",
   "execution_count": 12,
   "id": "e5532719",
   "metadata": {},
   "outputs": [],
   "source": [
    "def process_item_parallel(args: tuple) -> Dict[str, Any]:\n",
    "    \"\"\"Process a single item in parallel\"\"\"\n",
    "    fs, item, polygon = args\n",
    "    extractor = data_classes.HLSDataExtractor(fs=fs, item=item)\n",
    "    manager = data_classes.SatelliteDataManager(\n",
    "        extractor=extractor\n",
    "    )    \n",
    "    return manager.extract_inference_data(polygon)\n"
   ]
  },
  {
   "cell_type": "code",
   "execution_count": 21,
   "id": "92fcd53f",
   "metadata": {},
   "outputs": [],
   "source": [
    "max_workers = 8\n",
    "def run_in_parallel(function, tasks):\n",
    "    results = []\n",
    "    with ThreadPoolExecutor(max_workers=max_workers) as executor:\n",
    "        future_to_task = {executor.submit(function, task): task for task in tasks}\n",
    "        for future in as_completed(future_to_task):\n",
    "            result = future.result()\n",
    "            if result is not None:\n",
    "                results.append(result)\n",
    "    return pd.concat(results)"
   ]
  },
  {
   "cell_type": "code",
   "execution_count": 20,
   "id": "71a57a58",
   "metadata": {},
   "outputs": [],
   "source": [
    "# %%time\n",
    "# # for testing\n",
    "# result = process_item_parallel((fs, landsat_items[2], crystal_polygon))"
   ]
  },
  {
   "cell_type": "code",
   "execution_count": 49,
   "id": "008e657d",
   "metadata": {},
   "outputs": [
    {
     "name": "stdout",
     "output_type": "stream",
     "text": [
      "CPU times: user 4min 26s, sys: 1min 28s, total: 5min 55s\n",
      "Wall time: 3min 13s\n"
     ]
    }
   ],
   "source": [
    "%%time\n",
    "tasks = [(fs, item, crystal_polygon) for item in landsat_items]\n",
    "results = run_in_parallel(process_item_parallel, tasks)"
   ]
  },
  {
   "cell_type": "code",
   "execution_count": 50,
   "id": "d1d2d0ec",
   "metadata": {},
   "outputs": [
    {
     "data": {
      "text/plain": [
       "(630852, 11)"
      ]
     },
     "execution_count": 50,
     "metadata": {},
     "output_type": "execute_result"
    }
   ],
   "source": [
    "results.shape"
   ]
  },
  {
   "cell_type": "code",
   "execution_count": 51,
   "id": "e53ce8a4-dc8a-484d-80da-279f2d048a42",
   "metadata": {},
   "outputs": [],
   "source": [
    "results['datetime'] = pd.to_datetime(results['time'])\n",
    "results['day'] = results['datetime'].dt.day\n",
    "results['month'] = results['datetime'].dt.month\n",
    "results['year'] = results['datetime'].dt.year\n",
    "results.loc[~results['fsca'].between(0, 1000), 'fsca'] = None"
   ]
  },
  {
   "cell_type": "code",
   "execution_count": 52,
   "id": "98f8586a-37a8-4b93-91d5-b7483c629b38",
   "metadata": {},
   "outputs": [
    {
     "data": {
      "text/html": [
       "<div>\n",
       "<style scoped>\n",
       "    .dataframe tbody tr th:only-of-type {\n",
       "        vertical-align: middle;\n",
       "    }\n",
       "\n",
       "    .dataframe tbody tr th {\n",
       "        vertical-align: top;\n",
       "    }\n",
       "\n",
       "    .dataframe thead th {\n",
       "        text-align: right;\n",
       "    }\n",
       "</style>\n",
       "<table border=\"1\" class=\"dataframe\">\n",
       "  <thead>\n",
       "    <tr style=\"text-align: right;\">\n",
       "      <th></th>\n",
       "      <th>longitude</th>\n",
       "      <th>latitude</th>\n",
       "      <th>coastal</th>\n",
       "      <th>blue</th>\n",
       "      <th>green</th>\n",
       "      <th>red</th>\n",
       "      <th>nir08</th>\n",
       "      <th>swir16</th>\n",
       "      <th>swir22</th>\n",
       "      <th>fsca</th>\n",
       "      <th>day</th>\n",
       "      <th>month</th>\n",
       "      <th>year</th>\n",
       "    </tr>\n",
       "  </thead>\n",
       "  <tbody>\n",
       "    <tr>\n",
       "      <th>count</th>\n",
       "      <td>630852.000000</td>\n",
       "      <td>630852.000000</td>\n",
       "      <td>0.0</td>\n",
       "      <td>630852.000000</td>\n",
       "      <td>630852.000000</td>\n",
       "      <td>630852.000000</td>\n",
       "      <td>630852.000000</td>\n",
       "      <td>630852.000000</td>\n",
       "      <td>630852.000000</td>\n",
       "      <td>524352.000000</td>\n",
       "      <td>630852.000000</td>\n",
       "      <td>630852.000000</td>\n",
       "      <td>630852.0</td>\n",
       "    </tr>\n",
       "    <tr>\n",
       "      <th>mean</th>\n",
       "      <td>-121.491116</td>\n",
       "      <td>46.933597</td>\n",
       "      <td>NaN</td>\n",
       "      <td>31460.181854</td>\n",
       "      <td>26585.948612</td>\n",
       "      <td>28159.311715</td>\n",
       "      <td>24545.407612</td>\n",
       "      <td>16100.925238</td>\n",
       "      <td>13680.065372</td>\n",
       "      <td>408.607716</td>\n",
       "      <td>15.837261</td>\n",
       "      <td>6.875292</td>\n",
       "      <td>2002.0</td>\n",
       "    </tr>\n",
       "    <tr>\n",
       "      <th>std</th>\n",
       "      <td>0.008397</td>\n",
       "      <td>0.011751</td>\n",
       "      <td>NaN</td>\n",
       "      <td>24245.510591</td>\n",
       "      <td>19555.575797</td>\n",
       "      <td>21218.967744</td>\n",
       "      <td>11320.439494</td>\n",
       "      <td>8574.904446</td>\n",
       "      <td>5310.561996</td>\n",
       "      <td>389.966851</td>\n",
       "      <td>8.704773</td>\n",
       "      <td>3.360576</td>\n",
       "      <td>0.0</td>\n",
       "    </tr>\n",
       "    <tr>\n",
       "      <th>min</th>\n",
       "      <td>-121.508679</td>\n",
       "      <td>46.909031</td>\n",
       "      <td>NaN</td>\n",
       "      <td>6826.000000</td>\n",
       "      <td>6750.000000</td>\n",
       "      <td>6584.000000</td>\n",
       "      <td>7438.000000</td>\n",
       "      <td>6703.000000</td>\n",
       "      <td>6752.000000</td>\n",
       "      <td>0.000000</td>\n",
       "      <td>1.000000</td>\n",
       "      <td>1.000000</td>\n",
       "      <td>2002.0</td>\n",
       "    </tr>\n",
       "    <tr>\n",
       "      <th>25%</th>\n",
       "      <td>-121.497901</td>\n",
       "      <td>46.923981</td>\n",
       "      <td>NaN</td>\n",
       "      <td>9280.000000</td>\n",
       "      <td>10195.000000</td>\n",
       "      <td>10476.000000</td>\n",
       "      <td>15803.000000</td>\n",
       "      <td>10538.000000</td>\n",
       "      <td>9364.000000</td>\n",
       "      <td>0.000000</td>\n",
       "      <td>9.000000</td>\n",
       "      <td>4.000000</td>\n",
       "      <td>2002.0</td>\n",
       "    </tr>\n",
       "    <tr>\n",
       "      <th>50%</th>\n",
       "      <td>-121.491643</td>\n",
       "      <td>46.933020</td>\n",
       "      <td>NaN</td>\n",
       "      <td>20802.000000</td>\n",
       "      <td>20712.000000</td>\n",
       "      <td>20550.000000</td>\n",
       "      <td>21848.000000</td>\n",
       "      <td>14534.000000</td>\n",
       "      <td>12671.000000</td>\n",
       "      <td>330.000000</td>\n",
       "      <td>17.000000</td>\n",
       "      <td>7.000000</td>\n",
       "      <td>2002.0</td>\n",
       "    </tr>\n",
       "    <tr>\n",
       "      <th>75%</th>\n",
       "      <td>-121.484690</td>\n",
       "      <td>46.943798</td>\n",
       "      <td>NaN</td>\n",
       "      <td>65535.000000</td>\n",
       "      <td>34267.000000</td>\n",
       "      <td>35476.000000</td>\n",
       "      <td>31775.250000</td>\n",
       "      <td>18833.000000</td>\n",
       "      <td>16591.000000</td>\n",
       "      <td>754.000000</td>\n",
       "      <td>23.000000</td>\n",
       "      <td>10.000000</td>\n",
       "      <td>2002.0</td>\n",
       "    </tr>\n",
       "    <tr>\n",
       "      <th>max</th>\n",
       "      <td>-121.467306</td>\n",
       "      <td>46.956662</td>\n",
       "      <td>NaN</td>\n",
       "      <td>65535.000000</td>\n",
       "      <td>65535.000000</td>\n",
       "      <td>65535.000000</td>\n",
       "      <td>65535.000000</td>\n",
       "      <td>65535.000000</td>\n",
       "      <td>65535.000000</td>\n",
       "      <td>1000.000000</td>\n",
       "      <td>31.000000</td>\n",
       "      <td>12.000000</td>\n",
       "      <td>2002.0</td>\n",
       "    </tr>\n",
       "  </tbody>\n",
       "</table>\n",
       "</div>"
      ],
      "text/plain": [
       "           longitude       latitude  coastal           blue          green  \\\n",
       "count  630852.000000  630852.000000      0.0  630852.000000  630852.000000   \n",
       "mean     -121.491116      46.933597      NaN   31460.181854   26585.948612   \n",
       "std         0.008397       0.011751      NaN   24245.510591   19555.575797   \n",
       "min      -121.508679      46.909031      NaN    6826.000000    6750.000000   \n",
       "25%      -121.497901      46.923981      NaN    9280.000000   10195.000000   \n",
       "50%      -121.491643      46.933020      NaN   20802.000000   20712.000000   \n",
       "75%      -121.484690      46.943798      NaN   65535.000000   34267.000000   \n",
       "max      -121.467306      46.956662      NaN   65535.000000   65535.000000   \n",
       "\n",
       "                 red          nir08         swir16         swir22  \\\n",
       "count  630852.000000  630852.000000  630852.000000  630852.000000   \n",
       "mean    28159.311715   24545.407612   16100.925238   13680.065372   \n",
       "std     21218.967744   11320.439494    8574.904446    5310.561996   \n",
       "min      6584.000000    7438.000000    6703.000000    6752.000000   \n",
       "25%     10476.000000   15803.000000   10538.000000    9364.000000   \n",
       "50%     20550.000000   21848.000000   14534.000000   12671.000000   \n",
       "75%     35476.000000   31775.250000   18833.000000   16591.000000   \n",
       "max     65535.000000   65535.000000   65535.000000   65535.000000   \n",
       "\n",
       "                fsca            day          month      year  \n",
       "count  524352.000000  630852.000000  630852.000000  630852.0  \n",
       "mean      408.607716      15.837261       6.875292    2002.0  \n",
       "std       389.966851       8.704773       3.360576       0.0  \n",
       "min         0.000000       1.000000       1.000000    2002.0  \n",
       "25%         0.000000       9.000000       4.000000    2002.0  \n",
       "50%       330.000000      17.000000       7.000000    2002.0  \n",
       "75%       754.000000      23.000000      10.000000    2002.0  \n",
       "max      1000.000000      31.000000      12.000000    2002.0  "
      ]
     },
     "execution_count": 52,
     "metadata": {},
     "output_type": "execute_result"
    }
   ],
   "source": [
    "results.describe()"
   ]
  },
  {
   "cell_type": "code",
   "execution_count": 53,
   "id": "f2098903",
   "metadata": {},
   "outputs": [],
   "source": [
    "\n",
    "input_columns = [\"red\", \"green\", \"blue\", \"coastal\", \"nir08\", \"swir16\", \"swir22\", \"fsca\", \"latitude\", \"longitude\", \"month\"]\n",
    "x_input_data = results[input_columns]\n",
    "x_scaled = X_scaler.transform(x_input_data)\n"
   ]
  },
  {
   "cell_type": "code",
   "execution_count": 54,
   "id": "e346784c",
   "metadata": {},
   "outputs": [
    {
     "data": {
      "text/plain": [
       "array([0.25599942, 0.26109488, 0.17265745, ..., 0.34875576, 0.34428572,\n",
       "       0.35387097], shape=(630852,))"
      ]
     },
     "execution_count": 54,
     "metadata": {},
     "output_type": "execute_result"
    }
   ],
   "source": [
    "y_pred = model.predict(x_scaled)\n",
    "y_pred"
   ]
  },
  {
   "cell_type": "code",
   "execution_count": 55,
   "id": "8ffc8e31",
   "metadata": {},
   "outputs": [
    {
     "data": {
      "text/plain": [
       "array([[55.5518751 ],\n",
       "       [56.65758959],\n",
       "       [37.46666684],\n",
       "       ...,\n",
       "       [75.67999999],\n",
       "       [74.71000033],\n",
       "       [76.78999955]], shape=(630852, 1))"
      ]
     },
     "execution_count": 55,
     "metadata": {},
     "output_type": "execute_result"
    }
   ],
   "source": [
    "y_scaled = Y_scaler.inverse_transform([[pred] for pred in y_pred])\n",
    "y_scaled"
   ]
  },
  {
   "cell_type": "code",
   "execution_count": 56,
   "id": "cf27518f",
   "metadata": {},
   "outputs": [],
   "source": [
    "results['snow_depth_prediction'] = y_scaled"
   ]
  },
  {
   "cell_type": "code",
   "execution_count": 57,
   "id": "b15d17f4-431b-4154-9ac1-097de8a085fe",
   "metadata": {},
   "outputs": [
    {
     "data": {
      "text/plain": [
       "(630852, 16)"
      ]
     },
     "execution_count": 57,
     "metadata": {},
     "output_type": "execute_result"
    }
   ],
   "source": [
    "results.shape"
   ]
  },
  {
   "cell_type": "code",
   "execution_count": 62,
   "id": "960e2e62-b493-45f7-bd28-37742d088cc8",
   "metadata": {},
   "outputs": [],
   "source": [
    "# get average snow depth over the resort area from all pixels available for a given month-year\n",
    "results_grouped = results.groupby(['month', 'year']).agg({'snow_depth_prediction': 'mean'})"
   ]
  },
  {
   "cell_type": "code",
   "execution_count": 63,
   "id": "b1b20c80-3b06-40e6-a27a-764aec5e73f2",
   "metadata": {},
   "outputs": [
    {
     "data": {
      "text/plain": [
       "<Axes: xlabel='month,year'>"
      ]
     },
     "execution_count": 63,
     "metadata": {},
     "output_type": "execute_result"
    },
    {
     "data": {
      "image/png": "[encoded data removed]",
      "text/plain": [
       "<Figure size 640x480 with 1 Axes>"
      ]
     },
     "metadata": {},
     "output_type": "display_data"
    }
   ],
   "source": [
    "results_grouped.plot()"
   ]
  },
  {
   "cell_type": "code",
   "execution_count": null,
   "id": "83147987",
   "metadata": {},
   "outputs": [
    {
     "data": {
      "text/plain": [
       "0       51290.999885\n",
       "1       51974.999732\n",
       "2       57762.000168\n",
       "3       52253.999831\n",
       "4       57474.000139\n",
       "            ...     \n",
       "8645    65538.000248\n",
       "8646    65556.000281\n",
       "8647    65340.000237\n",
       "8648    66456.000258\n",
       "8649    65556.000281\n",
       "Name: snow_volume_prediction, Length: 8650, dtype: float64"
      ]
     },
     "execution_count": 21,
     "metadata": {},
     "output_type": "execute_result"
    }
   ],
   "source": [
    "# what we have a matrix of observations, identified by datetime and a snow depth prediction for each pixel.\n",
    "# We can multiply those by the size of each pixel to get the area of snow.\n",
    "# Then we can sum those up to get the total area of snow for each year.\n",
    "area_of_each_pixel = 30 * 30\n",
    "reduced_pixels_df['snow_volume_prediction'] = reduced_pixels_df['snow_depth_prediction'] * area_of_each_pixel\n",
    "reduced_pixels_df['snow_volume_prediction']"
   ]
  }
 ],
 "metadata": {
  "kernelspec": {
   "display_name": "Python 3 (ipykernel)",
   "language": "python",
   "name": "python3"
  },
  "language_info": {
   "codemirror_mode": {
    "name": "ipython",
    "version": 3
   },
   "file_extension": ".py",
   "mimetype": "text/x-python",
   "name": "python",
   "nbconvert_exporter": "python",
   "pygments_lexer": "ipython3",
   "version": "3.12.11"
  }
 },
 "nbformat": 4,
 "nbformat_minor": 5
}
