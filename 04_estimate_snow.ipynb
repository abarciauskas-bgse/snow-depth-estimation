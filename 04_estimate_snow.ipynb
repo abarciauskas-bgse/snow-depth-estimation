{
 "cells": [
  {
   "cell_type": "markdown",
   "id": "303720f9-c1a3-4b20-a9ff-3c1748fc9dd2",
   "metadata": {},
   "source": [
    "# Estimate snow depth"
   ]
  },
  {
   "cell_type": "code",
   "execution_count": 1,
   "id": "b67e5060-38af-430f-a10d-f79ccb34656e",
   "metadata": {},
   "outputs": [],
   "source": [
    "import joblib\n",
    "import json\n",
    "import matplotlib.pyplot as plt\n",
    "import pandas as pd\n",
    "import plotly.express as px\n",
    "from shapely.geometry import shape, Point"
   ]
  },
  {
   "cell_type": "code",
   "execution_count": 2,
   "id": "91dda4d9",
   "metadata": {},
   "outputs": [
    {
     "ename": "FileNotFoundError",
     "evalue": "[Errno 2] No such file or directory: 'random_forest_model.pkl'",
     "output_type": "error",
     "traceback": [
      "\u001b[31m---------------------------------------------------------------------------\u001b[39m",
      "\u001b[31mFileNotFoundError\u001b[39m                         Traceback (most recent call last)",
      "\u001b[36mCell\u001b[39m\u001b[36m \u001b[39m\u001b[32mIn[2]\u001b[39m\u001b[32m, line 2\u001b[39m\n\u001b[32m      1\u001b[39m \u001b[38;5;66;03m# Load model\u001b[39;00m\n\u001b[32m----> \u001b[39m\u001b[32m2\u001b[39m model = \u001b[43mjoblib\u001b[49m\u001b[43m.\u001b[49m\u001b[43mload\u001b[49m\u001b[43m(\u001b[49m\u001b[33;43m'\u001b[39;49m\u001b[33;43mrandom_forest_model.pkl\u001b[39;49m\u001b[33;43m'\u001b[39;49m\u001b[43m)\u001b[49m\n\u001b[32m      4\u001b[39m \u001b[38;5;66;03m# Load scalers\u001b[39;00m\n\u001b[32m      5\u001b[39m X_scaler = joblib.load(\u001b[33m'\u001b[39m\u001b[33mX_scaler.pkl\u001b[39m\u001b[33m'\u001b[39m)\n",
      "\u001b[36mFile \u001b[39m\u001b[32m/usr/local/lib/python3.12/site-packages/joblib/numpy_pickle.py:735\u001b[39m, in \u001b[36mload\u001b[39m\u001b[34m(filename, mmap_mode, ensure_native_byte_order)\u001b[39m\n\u001b[32m    733\u001b[39m         obj = _unpickle(fobj, ensure_native_byte_order=ensure_native_byte_order)\n\u001b[32m    734\u001b[39m \u001b[38;5;28;01melse\u001b[39;00m:\n\u001b[32m--> \u001b[39m\u001b[32m735\u001b[39m     \u001b[38;5;28;01mwith\u001b[39;00m \u001b[38;5;28;43mopen\u001b[39;49m\u001b[43m(\u001b[49m\u001b[43mfilename\u001b[49m\u001b[43m,\u001b[49m\u001b[43m \u001b[49m\u001b[33;43m\"\u001b[39;49m\u001b[33;43mrb\u001b[39;49m\u001b[33;43m\"\u001b[39;49m\u001b[43m)\u001b[49m \u001b[38;5;28;01mas\u001b[39;00m f:\n\u001b[32m    736\u001b[39m         \u001b[38;5;28;01mwith\u001b[39;00m _validate_fileobject_and_memmap(f, filename, mmap_mode) \u001b[38;5;28;01mas\u001b[39;00m (\n\u001b[32m    737\u001b[39m             fobj,\n\u001b[32m    738\u001b[39m             validated_mmap_mode,\n\u001b[32m    739\u001b[39m         ):\n\u001b[32m    740\u001b[39m             \u001b[38;5;28;01mif\u001b[39;00m \u001b[38;5;28misinstance\u001b[39m(fobj, \u001b[38;5;28mstr\u001b[39m):\n\u001b[32m    741\u001b[39m                 \u001b[38;5;66;03m# if the returned file object is a string, this means we\u001b[39;00m\n\u001b[32m    742\u001b[39m                 \u001b[38;5;66;03m# try to load a pickle file generated with an version of\u001b[39;00m\n\u001b[32m    743\u001b[39m                 \u001b[38;5;66;03m# Joblib so we load it with joblib compatibility function.\u001b[39;00m\n",
      "\u001b[31mFileNotFoundError\u001b[39m: [Errno 2] No such file or directory: 'random_forest_model.pkl'"
     ]
    }
   ],
   "source": [
    "# Load model\n",
    "model = joblib.load('random_forest_model.pkl')\n",
    "\n",
    "# Load scalers\n",
    "X_scaler = joblib.load('X_scaler.pkl')\n",
    "Y_scaler = joblib.load('Y_scaler.pkl')\n",
    "\n",
    "with open('ski_areas.geojson', 'r') as f:\n",
    "    ski_areas = json.load(f)\n",
    "\n",
    "crystal_mountain_area = [site for site in ski_areas['features'] if site['properties']['name'] == 'Crystal Mountain'][0]\n",
    "crystal_polygon = shape(crystal_mountain_area['geometry'])\n",
    "crystal_polygon"
   ]
  },
  {
   "cell_type": "code",
   "execution_count": 3,
   "id": "017997ac-603d-47e1-b4f6-0b909a7f1913",
   "metadata": {},
   "outputs": [
    {
     "name": "stdout",
     "output_type": "stream",
     "text": [
      "download: s3://aimees-snow-project/results.parquet to ./results.parquet\n"
     ]
    }
   ],
   "source": [
    "!aws s3 cp s3://aimees-snow-project/results.parquet ."
   ]
  },
  {
   "cell_type": "code",
   "execution_count": 4,
   "id": "ff37ed1c-932b-430d-93b9-0b48900f32e4",
   "metadata": {},
   "outputs": [
    {
     "data": {
      "text/html": [
       "<div>\n",
       "<style scoped>\n",
       "    .dataframe tbody tr th:only-of-type {\n",
       "        vertical-align: middle;\n",
       "    }\n",
       "\n",
       "    .dataframe tbody tr th {\n",
       "        vertical-align: top;\n",
       "    }\n",
       "\n",
       "    .dataframe thead th {\n",
       "        text-align: right;\n",
       "    }\n",
       "</style>\n",
       "<table border=\"1\" class=\"dataframe\">\n",
       "  <thead>\n",
       "    <tr style=\"text-align: right;\">\n",
       "      <th></th>\n",
       "      <th>time</th>\n",
       "      <th>longitude</th>\n",
       "      <th>latitude</th>\n",
       "      <th>coastal</th>\n",
       "      <th>blue</th>\n",
       "      <th>green</th>\n",
       "      <th>red</th>\n",
       "      <th>nir08</th>\n",
       "      <th>swir16</th>\n",
       "      <th>swir22</th>\n",
       "      <th>fsca</th>\n",
       "      <th>datetime</th>\n",
       "      <th>day</th>\n",
       "      <th>month</th>\n",
       "      <th>year</th>\n",
       "    </tr>\n",
       "  </thead>\n",
       "  <tbody>\n",
       "    <tr>\n",
       "      <th>0</th>\n",
       "      <td>2024-12-25T18:49:51.253821Z</td>\n",
       "      <td>-121.508679</td>\n",
       "      <td>46.922242</td>\n",
       "      <td>36261.0</td>\n",
       "      <td>35869</td>\n",
       "      <td>34486</td>\n",
       "      <td>34155</td>\n",
       "      <td>33048</td>\n",
       "      <td>17509</td>\n",
       "      <td>18436</td>\n",
       "      <td>NaN</td>\n",
       "      <td>2024-12-25 18:49:51.253821+00:00</td>\n",
       "      <td>25</td>\n",
       "      <td>12</td>\n",
       "      <td>2024</td>\n",
       "    </tr>\n",
       "    <tr>\n",
       "      <th>1</th>\n",
       "      <td>2024-12-25T18:49:51.253821Z</td>\n",
       "      <td>-121.508679</td>\n",
       "      <td>46.921895</td>\n",
       "      <td>36219.0</td>\n",
       "      <td>35757</td>\n",
       "      <td>34552</td>\n",
       "      <td>34083</td>\n",
       "      <td>32874</td>\n",
       "      <td>17493</td>\n",
       "      <td>18473</td>\n",
       "      <td>NaN</td>\n",
       "      <td>2024-12-25 18:49:51.253821+00:00</td>\n",
       "      <td>25</td>\n",
       "      <td>12</td>\n",
       "      <td>2024</td>\n",
       "    </tr>\n",
       "    <tr>\n",
       "      <th>2</th>\n",
       "      <td>2024-12-25T18:49:51.253821Z</td>\n",
       "      <td>-121.508679</td>\n",
       "      <td>46.921547</td>\n",
       "      <td>36237.0</td>\n",
       "      <td>35765</td>\n",
       "      <td>34417</td>\n",
       "      <td>34086</td>\n",
       "      <td>32936</td>\n",
       "      <td>17457</td>\n",
       "      <td>18473</td>\n",
       "      <td>NaN</td>\n",
       "      <td>2024-12-25 18:49:51.253821+00:00</td>\n",
       "      <td>25</td>\n",
       "      <td>12</td>\n",
       "      <td>2024</td>\n",
       "    </tr>\n",
       "    <tr>\n",
       "      <th>3</th>\n",
       "      <td>2024-12-25T18:49:51.253821Z</td>\n",
       "      <td>-121.508679</td>\n",
       "      <td>46.921199</td>\n",
       "      <td>36219.0</td>\n",
       "      <td>35760</td>\n",
       "      <td>34536</td>\n",
       "      <td>34043</td>\n",
       "      <td>32889</td>\n",
       "      <td>17450</td>\n",
       "      <td>18471</td>\n",
       "      <td>NaN</td>\n",
       "      <td>2024-12-25 18:49:51.253821+00:00</td>\n",
       "      <td>25</td>\n",
       "      <td>12</td>\n",
       "      <td>2024</td>\n",
       "    </tr>\n",
       "    <tr>\n",
       "      <th>4</th>\n",
       "      <td>2024-12-25T18:49:51.253821Z</td>\n",
       "      <td>-121.508331</td>\n",
       "      <td>46.923286</td>\n",
       "      <td>36363.0</td>\n",
       "      <td>35863</td>\n",
       "      <td>34542</td>\n",
       "      <td>34192</td>\n",
       "      <td>33038</td>\n",
       "      <td>17589</td>\n",
       "      <td>18608</td>\n",
       "      <td>NaN</td>\n",
       "      <td>2024-12-25 18:49:51.253821+00:00</td>\n",
       "      <td>25</td>\n",
       "      <td>12</td>\n",
       "      <td>2024</td>\n",
       "    </tr>\n",
       "  </tbody>\n",
       "</table>\n",
       "</div>"
      ],
      "text/plain": [
       "                          time   longitude   latitude  coastal   blue  green  \\\n",
       "0  2024-12-25T18:49:51.253821Z -121.508679  46.922242  36261.0  35869  34486   \n",
       "1  2024-12-25T18:49:51.253821Z -121.508679  46.921895  36219.0  35757  34552   \n",
       "2  2024-12-25T18:49:51.253821Z -121.508679  46.921547  36237.0  35765  34417   \n",
       "3  2024-12-25T18:49:51.253821Z -121.508679  46.921199  36219.0  35760  34536   \n",
       "4  2024-12-25T18:49:51.253821Z -121.508331  46.923286  36363.0  35863  34542   \n",
       "\n",
       "     red  nir08  swir16  swir22  fsca                         datetime  day  \\\n",
       "0  34155  33048   17509   18436   NaN 2024-12-25 18:49:51.253821+00:00   25   \n",
       "1  34083  32874   17493   18473   NaN 2024-12-25 18:49:51.253821+00:00   25   \n",
       "2  34086  32936   17457   18473   NaN 2024-12-25 18:49:51.253821+00:00   25   \n",
       "3  34043  32889   17450   18471   NaN 2024-12-25 18:49:51.253821+00:00   25   \n",
       "4  34192  33038   17589   18608   NaN 2024-12-25 18:49:51.253821+00:00   25   \n",
       "\n",
       "   month  year  \n",
       "0     12  2024  \n",
       "1     12  2024  \n",
       "2     12  2024  \n",
       "3     12  2024  \n",
       "4     12  2024  "
      ]
     },
     "execution_count": 4,
     "metadata": {},
     "output_type": "execute_result"
    }
   ],
   "source": [
    "# Load data\n",
    "results_df = pd.read_parquet('results.parquet')\n",
    "results_df = results_df.dropna(subset=['fsca'])\n",
    "results_df['datetime'] = pd.to_datetime(results_df['time'])\n",
    "results_df['day'] = results_df['datetime'].dt.day\n",
    "results_df['month'] = results_df['datetime'].dt.month\n",
    "results_df['year'] = results_df['datetime'].dt.year\n",
    "results_df.loc[~results_df['fsca'].between(0, 1000), 'fsca'] = None\n",
    "results_df.head()"
   ]
  },
  {
   "cell_type": "code",
   "execution_count": 5,
   "id": "ad8954ea-3a9b-4188-86d2-e42bf05019f1",
   "metadata": {},
   "outputs": [],
   "source": [
    "input_columns = [\"red\", \"green\", \"blue\", \"coastal\", \"nir08\", \"swir16\", \"swir22\", \"fsca\", \"latitude\", \"longitude\", \"month\"]\n",
    "x_input_data = results_df[input_columns]\n",
    "x_scaled = X_scaler.transform(x_input_data)"
   ]
  },
  {
   "cell_type": "code",
   "execution_count": 6,
   "id": "7db9b6bf-0a7d-4396-8ee8-5cf4fbce3e77",
   "metadata": {},
   "outputs": [
    {
     "name": "stdout",
     "output_type": "stream",
     "text": [
      "CPU times: user 1min 4s, sys: 3.61 s, total: 1min 8s\n",
      "Wall time: 1min 8s\n"
     ]
    },
    {
     "data": {
      "text/plain": [
       "array([0.28870968, 0.29087558, 0.2924424 , ..., 0.08354839, 0.08737327,\n",
       "       0.08737327], shape=(19957490,))"
      ]
     },
     "execution_count": 6,
     "metadata": {},
     "output_type": "execute_result"
    }
   ],
   "source": [
    "%%time\n",
    "y_pred = model.predict(x_scaled)\n",
    "y_pred"
   ]
  },
  {
   "cell_type": "code",
   "execution_count": 7,
   "id": "f29c317f-6bb2-4057-8d7d-5c2c4390b2f5",
   "metadata": {},
   "outputs": [
    {
     "data": {
      "text/plain": [
       "(19957490, 16)"
      ]
     },
     "execution_count": 7,
     "metadata": {},
     "output_type": "execute_result"
    }
   ],
   "source": [
    "y_scaled = Y_scaler.inverse_transform([[pred] for pred in y_pred])\n",
    "results_df['snow_depth_prediction'] = y_scaled\n",
    "results_df.shape"
   ]
  },
  {
   "cell_type": "code",
   "execution_count": 43,
   "id": "92947510-14eb-46e1-9667-74cd4ff7794e",
   "metadata": {},
   "outputs": [],
   "source": [
    "results_df.to_parquet('predictions.parquet')"
   ]
  },
  {
   "cell_type": "code",
   "execution_count": 44,
   "id": "40fea219-5991-4cb4-b1b2-bb77cdf433df",
   "metadata": {},
   "outputs": [
    {
     "name": "stdout",
     "output_type": "stream",
     "text": [
      "upload: ./predictions.parquet to s3://aimees-snow-project/predictions.parquet\n"
     ]
    }
   ],
   "source": [
    "!aws s3 cp predictions.parquet s3://aimees-snow-project/predictions.parquet"
   ]
  },
  {
   "cell_type": "code",
   "execution_count": null,
   "id": "ed567189-2eaa-4e3e-b9f9-20510feb2add",
   "metadata": {},
   "outputs": [],
   "source": []
  }
 ],
 "metadata": {
  "kernelspec": {
   "display_name": "Python 3 (ipykernel)",
   "language": "python",
   "name": "python3"
  },
  "language_info": {
   "codemirror_mode": {
    "name": "ipython",
    "version": 3
   },
   "file_extension": ".py",
   "mimetype": "text/x-python",
   "name": "python",
   "nbconvert_exporter": "python",
   "pygments_lexer": "ipython3",
   "version": "3.12.11"
  }
 },
 "nbformat": 4,
 "nbformat_minor": 5
}
