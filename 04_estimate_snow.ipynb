{
 "cells": [
  {
   "cell_type": "markdown",
   "id": "303720f9-c1a3-4b20-a9ff-3c1748fc9dd2",
   "metadata": {},
   "source": [
    "# Estimate snow depth"
   ]
  },
  {
   "cell_type": "code",
   "execution_count": 1,
   "id": "b67e5060-38af-430f-a10d-f79ccb34656e",
   "metadata": {},
   "outputs": [],
   "source": [
    "import joblib\n",
    "import json\n",
    "import matplotlib.pyplot as plt\n",
    "import pandas as pd\n",
    "import plotly.express as px\n",
    "from shapely.geometry import shape, Point"
   ]
  },
  {
   "cell_type": "code",
   "execution_count": 2,
   "id": "91dda4d9",
   "metadata": {},
   "outputs": [
    {
     "data": {
      "image/svg+xml": [
       "<svg xmlns=\"http://www.w3.org/2000/svg\" xmlns:xlink=\"http://www.w3.org/1999/xlink\" width=\"100.0\" height=\"100.0\" viewBox=\"-121.510828316 46.90698148400001 0.04555803199997399 0.0516730319999823\" preserveAspectRatio=\"xMinYMin meet\"><g transform=\"matrix(1,0,0,-1,0,93.86563600000001)\"><path fill-rule=\"evenodd\" fill=\"#66cc99\" stroke=\"#555555\" stroke-width=\"0.001033460639999646\" opacity=\"0.6\" d=\"M -121.50171950000002,46.9504336 L -121.5018603,46.9497608 L -121.50164440000003,46.9488948 L -121.5013491,46.9485249 L -121.50112790000003,46.9483435 L -121.50126980000003,46.947676699999995 L -121.50167360000003,46.9467916 L -121.5011522,46.94581820000001 L -121.5005976,46.944964599999985 L -121.5005101,46.9445299 L -121.50069940000003,46.9437433 L -121.5007359,46.940863599999986 L -121.5008673,46.9405062 L -121.50106140000003,46.9399234 L -121.5009095,46.9378759 L -121.50110090000003,46.937552900000014 L -121.5011573,46.9374578 L -121.5019403,46.936683 L -121.5021007,46.9350975 L -121.50163160000002,46.9332348 L -121.5018958,46.9319782 L -121.5028112,46.93133990000001 L -121.5039188,46.9305472 L -121.5039931,46.9304688 L -121.50486980000002,46.92954330000001 L -121.505065,46.92878 L -121.50533759999996,46.92817920000002 L -121.5056218,46.9279917 L -121.50591829999998,46.9269407 L -121.50634279999997,46.926506 L -121.50718420000003,46.92576370000001 L -121.5077224,46.925011900000015 L -121.5078163,46.92465290000001 L -121.50808009999997,46.92413170000001 L -121.50822910000002,46.9232625 L -121.5089145,46.9219347 L -121.5089082,46.92140230000001 L -121.50875829999997,46.9209206 L -121.50834909999998,46.9203271 L -121.5075071,46.919497599999985 L -121.50785450000002,46.9182342 L -121.5081559,46.917952 L -121.5079173,46.9169922 L -121.50751190000003,46.916457199999996 L -121.5049841,46.9133776 L -121.5038947,46.911540699999996 L -121.50257809999997,46.9105117 L -121.5016323,46.9100392 L -121.49998090000003,46.9094525 L -121.49914900000003,46.909304 L -121.49891840000002,46.9091545 L -121.49779430000002,46.90889530000001 L -121.49771740000003,46.909004 L -121.49750090000003,46.90930990000001 L -121.49661430000003,46.91158449999998 L -121.4953151,46.91270290000001 L -121.49339930000002,46.9134752 L -121.49177490000002,46.9137766 L -121.4903513,46.91493230000001 L -121.48807869999997,46.916894499999984 L -121.48671279999998,46.918384 L -121.48399260000002,46.919324 L -121.4835378,46.9207655 L -121.4820051,46.92253890000002 L -121.4809363,46.92245890000002 L -121.479474,46.92369220000001 L -121.4793055,46.9248279 L -121.4790079,46.9263418 L -121.4778925,46.928182800000016 L -121.475439,46.9306938 L -121.47422050000003,46.9305571 L -121.4736451,46.9313257 L -121.47373769999997,46.9330457 L -121.4688705,46.9305514 L -121.4675821,46.930461 L -121.46718410000003,46.9304331 L -121.4674788,46.9313848 L -121.4692323,46.9324272 L -121.4693285,46.93351920000001 L -121.470232,46.9339949 L -121.4703905,46.93561490000001 L -121.47059829999998,46.9374292 L -121.4708474,46.9390066 L -121.4714738,46.9403077 L -121.4719687,46.9408013 L -121.4722832,46.9405668 L -121.4714729,46.9391249 L -121.47169760000003,46.9374069 L -121.47257509999997,46.9364708 L -121.4735312,46.9360447 L -121.47519799999998,46.935838900000014 L -121.47533579999997,46.93514000000001 L -121.47567649999998,46.935202300000014 L -121.4761962,46.9364299 L -121.47715240000002,46.937604599999986 L -121.4783344,46.9393604 L -121.4785072,46.9409999 L -121.4781354,46.94147099999999 L -121.4778591,46.94315990000001 L -121.4784203,46.94444639999999 L -121.4775325,46.944744799999995 L -121.475697,46.94536210000001 L -121.4736558,46.946499 L -121.47377509999997,46.946847299999995 L -121.4747445,46.9467395 L -121.4762608,46.9469763 L -121.4778059,46.947489299999994 L -121.47838479999997,46.9487461 L -121.47871269999997,46.950063899999996 L -121.4794222,46.95068749999998 L -121.48042660000003,46.952386 L -121.48066670000003,46.9524699 L -121.48194990000003,46.954008599999995 L -121.48418310000002,46.954740699999995 L -121.48531340000002,46.9555992 L -121.4860062,46.955572900000014 L -121.48631,46.956206499999986 L -121.48704790000002,46.9564303 L -121.4884964,46.9567407 L -121.4887054,46.9567279 L -121.4888374,46.9566727 L -121.4892021,46.9564983 L -121.49465630000003,46.9559239 L -121.49611920000004,46.954777199999995 L -121.4968127,46.954467999999984 L -121.49871560000003,46.953620099999995 L -121.49969270000003,46.953335 L -121.501076,46.9529317 L -121.5014629,46.9526331 L -121.502063,46.95217010000001 L -121.50171950000002,46.9504336 z M -121.49474160000003,46.941140499999996 L -121.49480950000003,46.9417221 L -121.49391040000003,46.9420629 L -121.4924459,46.94198749999998 L -121.49141510000003,46.9415336 L -121.49100160000003,46.9414586 L -121.490375,46.940984099999994 L -121.49029440000004,46.940863799999995 L -121.49048440000003,46.9405006 L -121.49050470000003,46.9398341 L -121.49051530000003,46.939487299999996 L -121.49068140000003,46.9390258 L -121.49140350000003,46.93871900000001 L -121.4927677,46.938433 L -121.4935423,46.9385834 L -121.49407070000002,46.9390942 L -121.4947331,46.9394956 L -121.4951882,46.94006639999999 L -121.4952088,46.940676 L -121.49474160000003,46.941140499999996 z\" /></g></svg>"
      ],
      "text/plain": [
       "<POLYGON ((-121.502 46.95, -121.502 46.95, -121.502 46.949, -121.501 46.949,...>"
      ]
     },
     "execution_count": 2,
     "metadata": {},
     "output_type": "execute_result"
    }
   ],
   "source": [
    "# Load model\n",
    "model = joblib.load('random_forest_model.pkl')\n",
    "\n",
    "# Load scalers\n",
    "X_scaler = joblib.load('X_scaler.pkl')\n",
    "Y_scaler = joblib.load('Y_scaler.pkl')\n",
    "\n",
    "with open('ski_areas.geojson', 'r') as f:\n",
    "    ski_areas = json.load(f)\n",
    "\n",
    "crystal_mountain_area = [site for site in ski_areas['features'] if site['properties']['name'] == 'Crystal Mountain'][0]\n",
    "crystal_polygon = shape(crystal_mountain_area['geometry'])\n",
    "crystal_polygon"
   ]
  },
  {
   "cell_type": "code",
   "execution_count": 3,
   "id": "017997ac-603d-47e1-b4f6-0b909a7f1913",
   "metadata": {},
   "outputs": [
    {
     "name": "stdout",
     "output_type": "stream",
     "text": [
      "download: s3://aimees-snow-project/results.parquet to ./results.parquet\n"
     ]
    }
   ],
   "source": [
    "!aws s3 cp s3://aimees-snow-project/results.parquet ."
   ]
  },
  {
   "cell_type": "code",
   "execution_count": 4,
   "id": "ff37ed1c-932b-430d-93b9-0b48900f32e4",
   "metadata": {},
   "outputs": [
    {
     "data": {
      "text/html": [
       "<div>\n",
       "<style scoped>\n",
       "    .dataframe tbody tr th:only-of-type {\n",
       "        vertical-align: middle;\n",
       "    }\n",
       "\n",
       "    .dataframe tbody tr th {\n",
       "        vertical-align: top;\n",
       "    }\n",
       "\n",
       "    .dataframe thead th {\n",
       "        text-align: right;\n",
       "    }\n",
       "</style>\n",
       "<table border=\"1\" class=\"dataframe\">\n",
       "  <thead>\n",
       "    <tr style=\"text-align: right;\">\n",
       "      <th></th>\n",
       "      <th>time</th>\n",
       "      <th>longitude</th>\n",
       "      <th>latitude</th>\n",
       "      <th>coastal</th>\n",
       "      <th>blue</th>\n",
       "      <th>green</th>\n",
       "      <th>red</th>\n",
       "      <th>nir08</th>\n",
       "      <th>swir16</th>\n",
       "      <th>swir22</th>\n",
       "      <th>fsca</th>\n",
       "      <th>datetime</th>\n",
       "      <th>day</th>\n",
       "      <th>month</th>\n",
       "      <th>year</th>\n",
       "    </tr>\n",
       "  </thead>\n",
       "  <tbody>\n",
       "    <tr>\n",
       "      <th>0</th>\n",
       "      <td>2024-12-25T18:49:51.253821Z</td>\n",
       "      <td>-121.508679</td>\n",
       "      <td>46.922242</td>\n",
       "      <td>36261.0</td>\n",
       "      <td>35869</td>\n",
       "      <td>34486</td>\n",
       "      <td>34155</td>\n",
       "      <td>33048</td>\n",
       "      <td>17509</td>\n",
       "      <td>18436</td>\n",
       "      <td>NaN</td>\n",
       "      <td>2024-12-25 18:49:51.253821+00:00</td>\n",
       "      <td>25</td>\n",
       "      <td>12</td>\n",
       "      <td>2024</td>\n",
       "    </tr>\n",
       "    <tr>\n",
       "      <th>1</th>\n",
       "      <td>2024-12-25T18:49:51.253821Z</td>\n",
       "      <td>-121.508679</td>\n",
       "      <td>46.921895</td>\n",
       "      <td>36219.0</td>\n",
       "      <td>35757</td>\n",
       "      <td>34552</td>\n",
       "      <td>34083</td>\n",
       "      <td>32874</td>\n",
       "      <td>17493</td>\n",
       "      <td>18473</td>\n",
       "      <td>NaN</td>\n",
       "      <td>2024-12-25 18:49:51.253821+00:00</td>\n",
       "      <td>25</td>\n",
       "      <td>12</td>\n",
       "      <td>2024</td>\n",
       "    </tr>\n",
       "    <tr>\n",
       "      <th>2</th>\n",
       "      <td>2024-12-25T18:49:51.253821Z</td>\n",
       "      <td>-121.508679</td>\n",
       "      <td>46.921547</td>\n",
       "      <td>36237.0</td>\n",
       "      <td>35765</td>\n",
       "      <td>34417</td>\n",
       "      <td>34086</td>\n",
       "      <td>32936</td>\n",
       "      <td>17457</td>\n",
       "      <td>18473</td>\n",
       "      <td>NaN</td>\n",
       "      <td>2024-12-25 18:49:51.253821+00:00</td>\n",
       "      <td>25</td>\n",
       "      <td>12</td>\n",
       "      <td>2024</td>\n",
       "    </tr>\n",
       "    <tr>\n",
       "      <th>3</th>\n",
       "      <td>2024-12-25T18:49:51.253821Z</td>\n",
       "      <td>-121.508679</td>\n",
       "      <td>46.921199</td>\n",
       "      <td>36219.0</td>\n",
       "      <td>35760</td>\n",
       "      <td>34536</td>\n",
       "      <td>34043</td>\n",
       "      <td>32889</td>\n",
       "      <td>17450</td>\n",
       "      <td>18471</td>\n",
       "      <td>NaN</td>\n",
       "      <td>2024-12-25 18:49:51.253821+00:00</td>\n",
       "      <td>25</td>\n",
       "      <td>12</td>\n",
       "      <td>2024</td>\n",
       "    </tr>\n",
       "    <tr>\n",
       "      <th>4</th>\n",
       "      <td>2024-12-25T18:49:51.253821Z</td>\n",
       "      <td>-121.508331</td>\n",
       "      <td>46.923286</td>\n",
       "      <td>36363.0</td>\n",
       "      <td>35863</td>\n",
       "      <td>34542</td>\n",
       "      <td>34192</td>\n",
       "      <td>33038</td>\n",
       "      <td>17589</td>\n",
       "      <td>18608</td>\n",
       "      <td>NaN</td>\n",
       "      <td>2024-12-25 18:49:51.253821+00:00</td>\n",
       "      <td>25</td>\n",
       "      <td>12</td>\n",
       "      <td>2024</td>\n",
       "    </tr>\n",
       "  </tbody>\n",
       "</table>\n",
       "</div>"
      ],
      "text/plain": [
       "                          time   longitude   latitude  coastal   blue  green  \\\n",
       "0  2024-12-25T18:49:51.253821Z -121.508679  46.922242  36261.0  35869  34486   \n",
       "1  2024-12-25T18:49:51.253821Z -121.508679  46.921895  36219.0  35757  34552   \n",
       "2  2024-12-25T18:49:51.253821Z -121.508679  46.921547  36237.0  35765  34417   \n",
       "3  2024-12-25T18:49:51.253821Z -121.508679  46.921199  36219.0  35760  34536   \n",
       "4  2024-12-25T18:49:51.253821Z -121.508331  46.923286  36363.0  35863  34542   \n",
       "\n",
       "     red  nir08  swir16  swir22  fsca                         datetime  day  \\\n",
       "0  34155  33048   17509   18436   NaN 2024-12-25 18:49:51.253821+00:00   25   \n",
       "1  34083  32874   17493   18473   NaN 2024-12-25 18:49:51.253821+00:00   25   \n",
       "2  34086  32936   17457   18473   NaN 2024-12-25 18:49:51.253821+00:00   25   \n",
       "3  34043  32889   17450   18471   NaN 2024-12-25 18:49:51.253821+00:00   25   \n",
       "4  34192  33038   17589   18608   NaN 2024-12-25 18:49:51.253821+00:00   25   \n",
       "\n",
       "   month  year  \n",
       "0     12  2024  \n",
       "1     12  2024  \n",
       "2     12  2024  \n",
       "3     12  2024  \n",
       "4     12  2024  "
      ]
     },
     "execution_count": 4,
     "metadata": {},
     "output_type": "execute_result"
    }
   ],
   "source": [
    "# Load data\n",
    "results_df = pd.read_parquet('results.parquet')\n",
    "results_df = results_df.dropna(subset=['fsca'])\n",
    "results_df['datetime'] = pd.to_datetime(results_df['time'])\n",
    "results_df['day'] = results_df['datetime'].dt.day\n",
    "results_df['month'] = results_df['datetime'].dt.month\n",
    "results_df['year'] = results_df['datetime'].dt.year\n",
    "results_df.loc[~results_df['fsca'].between(0, 1000), 'fsca'] = None\n",
    "results_df.head()"
   ]
  },
  {
   "cell_type": "code",
   "execution_count": 5,
   "id": "ad8954ea-3a9b-4188-86d2-e42bf05019f1",
   "metadata": {},
   "outputs": [],
   "source": [
    "input_columns = [\"red\", \"green\", \"blue\", \"coastal\", \"nir08\", \"swir16\", \"swir22\", \"fsca\", \"latitude\", \"longitude\", \"month\"]\n",
    "x_input_data = results_df[input_columns]\n",
    "x_scaled = X_scaler.transform(x_input_data)"
   ]
  },
  {
   "cell_type": "code",
   "execution_count": 6,
   "id": "7db9b6bf-0a7d-4396-8ee8-5cf4fbce3e77",
   "metadata": {},
   "outputs": [
    {
     "name": "stdout",
     "output_type": "stream",
     "text": [
      "CPU times: user 1min 3s, sys: 3.48 s, total: 1min 7s\n",
      "Wall time: 1min 7s\n"
     ]
    },
    {
     "data": {
      "text/plain": [
       "array([0.30294931, 0.29884793, 0.29880184, ..., 0.04207373, 0.04313364,\n",
       "       0.04207373], shape=(19957490,))"
      ]
     },
     "execution_count": 6,
     "metadata": {},
     "output_type": "execute_result"
    }
   ],
   "source": [
    "%%time\n",
    "y_pred = model.predict(x_scaled)\n",
    "y_pred"
   ]
  },
  {
   "cell_type": "code",
   "execution_count": 7,
   "id": "f29c317f-6bb2-4057-8d7d-5c2c4390b2f5",
   "metadata": {},
   "outputs": [
    {
     "data": {
      "text/plain": [
       "(19957490, 16)"
      ]
     },
     "execution_count": 7,
     "metadata": {},
     "output_type": "execute_result"
    }
   ],
   "source": [
    "y_scaled = Y_scaler.inverse_transform([[pred] for pred in y_pred])\n",
    "results_df['snow_depth_prediction'] = y_scaled\n",
    "results_df.shape"
   ]
  },
  {
   "cell_type": "code",
   "execution_count": 8,
   "id": "92947510-14eb-46e1-9667-74cd4ff7794e",
   "metadata": {},
   "outputs": [],
   "source": [
    "results_df.to_parquet('predictions.parquet')"
   ]
  },
  {
   "cell_type": "code",
   "execution_count": 9,
   "id": "40fea219-5991-4cb4-b1b2-bb77cdf433df",
   "metadata": {},
   "outputs": [
    {
     "name": "stdout",
     "output_type": "stream",
     "text": [
      "upload: ./predictions.parquet to s3://aimees-snow-project/predictions.parquet\n"
     ]
    }
   ],
   "source": [
    "!aws s3 cp predictions.parquet s3://aimees-snow-project/predictions.parquet"
   ]
  }
 ],
 "metadata": {
  "kernelspec": {
   "display_name": "Python 3 (ipykernel)",
   "language": "python",
   "name": "python3"
  },
  "language_info": {
   "codemirror_mode": {
    "name": "ipython",
    "version": 3
   },
   "file_extension": ".py",
   "mimetype": "text/x-python",
   "name": "python",
   "nbconvert_exporter": "python",
   "pygments_lexer": "ipython3",
   "version": "3.12.11"
  }
 },
 "nbformat": 4,
 "nbformat_minor": 5
}
