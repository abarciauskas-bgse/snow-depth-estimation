{
 "cells": [
  {
   "cell_type": "markdown",
   "id": "31cd74c0-de09-4fd7-be21-14f39fb244d0",
   "metadata": {},
   "source": [
    "# Fit Linear Regression Model\n",
    "\n",
    "In this notebook, we train and evaluate a linear regression model as a baseline model for which to compare other models."
   ]
  },
  {
   "cell_type": "markdown",
   "id": "d4914e5c-0037-4b43-8306-67a38808368f",
   "metadata": {},
   "source": [
    "## 1. Setup\n",
    "\n",
    "Import libraries and download training data."
   ]
  },
  {
   "cell_type": "code",
   "execution_count": 1,
   "id": "5f815515",
   "metadata": {},
   "outputs": [
    {
     "name": "stderr",
     "output_type": "stream",
     "text": [
      "/usr/local/lib/python3.12/site-packages/tqdm/auto.py:21: TqdmWarning: IProgress not found. Please update jupyter and ipywidgets. See https://ipywidgets.readthedocs.io/en/stable/user_install.html\n",
      "  from .autonotebook import tqdm as notebook_tqdm\n"
     ]
    }
   ],
   "source": [
    "from sklearn.preprocessing import MinMaxScaler\n",
    "from sklearn.model_selection import train_test_split\n",
    "from sklearn.linear_model import LinearRegression\n",
    "from sklearn.metrics import mean_squared_error\n",
    "import numpy as np\n",
    "import pandas as pd\n",
    "from scipy.stats import pearsonr\n",
    "from matplotlib import pyplot as plt\n",
    "import joblib\n",
    "\n",
    "import training_data_helpers as td_helpers"
   ]
  },
  {
   "cell_type": "code",
   "execution_count": 2,
   "id": "9a3d742d-dabb-4399-89e7-923744c53af7",
   "metadata": {},
   "outputs": [
    {
     "name": "stdout",
     "output_type": "stream",
     "text": [
      "File 'training_data.parquet' downloaded successfully to 'training_data.parquet'\n"
     ]
    },
    {
     "data": {
      "text/html": [
       "<div>\n",
       "<style scoped>\n",
       "    .dataframe tbody tr th:only-of-type {\n",
       "        vertical-align: middle;\n",
       "    }\n",
       "\n",
       "    .dataframe tbody tr th {\n",
       "        vertical-align: top;\n",
       "    }\n",
       "\n",
       "    .dataframe thead th {\n",
       "        text-align: right;\n",
       "    }\n",
       "</style>\n",
       "<table border=\"1\" class=\"dataframe\">\n",
       "  <thead>\n",
       "    <tr style=\"text-align: right;\">\n",
       "      <th></th>\n",
       "      <th>date</th>\n",
       "      <th>snow_depth</th>\n",
       "      <th>red</th>\n",
       "      <th>green</th>\n",
       "      <th>blue</th>\n",
       "      <th>coastal</th>\n",
       "      <th>nir08</th>\n",
       "      <th>swir16</th>\n",
       "      <th>swir22</th>\n",
       "      <th>fsca</th>\n",
       "      <th>item_id</th>\n",
       "      <th>station_triplet</th>\n",
       "      <th>latitude</th>\n",
       "      <th>longitude</th>\n",
       "      <th>elevation</th>\n",
       "      <th>datetime</th>\n",
       "      <th>month</th>\n",
       "    </tr>\n",
       "  </thead>\n",
       "  <tbody>\n",
       "    <tr>\n",
       "      <th>0</th>\n",
       "      <td>2025-05-10T18:49:15.298686Z</td>\n",
       "      <td>87</td>\n",
       "      <td>23783</td>\n",
       "      <td>24067</td>\n",
       "      <td>24563</td>\n",
       "      <td>24717.0</td>\n",
       "      <td>24915</td>\n",
       "      <td>16878</td>\n",
       "      <td>17017</td>\n",
       "      <td>539.0</td>\n",
       "      <td>LC08_CU_004002_20250510_20250518_02_SR</td>\n",
       "      <td>1085:WA:SNTL</td>\n",
       "      <td>46.86956</td>\n",
       "      <td>-121.53434</td>\n",
       "      <td>5260.0</td>\n",
       "      <td>2025-05-10 18:49:15.298686+00:00</td>\n",
       "      <td>5</td>\n",
       "    </tr>\n",
       "    <tr>\n",
       "      <th>1</th>\n",
       "      <td>2025-05-26T18:49:08.643245Z</td>\n",
       "      <td>64</td>\n",
       "      <td>30420</td>\n",
       "      <td>30484</td>\n",
       "      <td>31724</td>\n",
       "      <td>31765.0</td>\n",
       "      <td>30553</td>\n",
       "      <td>22723</td>\n",
       "      <td>18696</td>\n",
       "      <td>531.0</td>\n",
       "      <td>LC08_CU_004002_20250526_20250606_02_SR</td>\n",
       "      <td>1085:WA:SNTL</td>\n",
       "      <td>46.86956</td>\n",
       "      <td>-121.53434</td>\n",
       "      <td>5260.0</td>\n",
       "      <td>2025-05-26 18:49:08.643245+00:00</td>\n",
       "      <td>5</td>\n",
       "    </tr>\n",
       "    <tr>\n",
       "      <th>2</th>\n",
       "      <td>2025-04-24T18:49:03.983677Z</td>\n",
       "      <td>121</td>\n",
       "      <td>20230</td>\n",
       "      <td>20543</td>\n",
       "      <td>20727</td>\n",
       "      <td>19248.0</td>\n",
       "      <td>21290</td>\n",
       "      <td>8042</td>\n",
       "      <td>7762</td>\n",
       "      <td>742.0</td>\n",
       "      <td>LC08_CU_004002_20250424_20250503_02_SR</td>\n",
       "      <td>1085:WA:SNTL</td>\n",
       "      <td>46.86956</td>\n",
       "      <td>-121.53434</td>\n",
       "      <td>5260.0</td>\n",
       "      <td>2025-04-24 18:49:03.983677+00:00</td>\n",
       "      <td>4</td>\n",
       "    </tr>\n",
       "    <tr>\n",
       "      <th>3</th>\n",
       "      <td>2025-05-01T18:55:04.333565Z</td>\n",
       "      <td>109</td>\n",
       "      <td>20102</td>\n",
       "      <td>19735</td>\n",
       "      <td>20009</td>\n",
       "      <td>18958.0</td>\n",
       "      <td>20637</td>\n",
       "      <td>7832</td>\n",
       "      <td>7657</td>\n",
       "      <td>NaN</td>\n",
       "      <td>LC08_CU_004002_20250501_20250511_02_SR</td>\n",
       "      <td>1085:WA:SNTL</td>\n",
       "      <td>46.86956</td>\n",
       "      <td>-121.53434</td>\n",
       "      <td>5260.0</td>\n",
       "      <td>2025-05-01 18:55:04.333565+00:00</td>\n",
       "      <td>5</td>\n",
       "    </tr>\n",
       "    <tr>\n",
       "      <th>4</th>\n",
       "      <td>2025-05-18T18:49:11.983471Z</td>\n",
       "      <td>79</td>\n",
       "      <td>24109</td>\n",
       "      <td>23672</td>\n",
       "      <td>24416</td>\n",
       "      <td>23895.0</td>\n",
       "      <td>27251</td>\n",
       "      <td>12570</td>\n",
       "      <td>12144</td>\n",
       "      <td>NaN</td>\n",
       "      <td>LC09_CU_004002_20250518_20250721_02_SR</td>\n",
       "      <td>1085:WA:SNTL</td>\n",
       "      <td>46.86956</td>\n",
       "      <td>-121.53434</td>\n",
       "      <td>5260.0</td>\n",
       "      <td>2025-05-18 18:49:11.983471+00:00</td>\n",
       "      <td>5</td>\n",
       "    </tr>\n",
       "  </tbody>\n",
       "</table>\n",
       "</div>"
      ],
      "text/plain": [
       "                          date  snow_depth    red  green   blue  coastal  \\\n",
       "0  2025-05-10T18:49:15.298686Z          87  23783  24067  24563  24717.0   \n",
       "1  2025-05-26T18:49:08.643245Z          64  30420  30484  31724  31765.0   \n",
       "2  2025-04-24T18:49:03.983677Z         121  20230  20543  20727  19248.0   \n",
       "3  2025-05-01T18:55:04.333565Z         109  20102  19735  20009  18958.0   \n",
       "4  2025-05-18T18:49:11.983471Z          79  24109  23672  24416  23895.0   \n",
       "\n",
       "   nir08  swir16  swir22   fsca                                 item_id  \\\n",
       "0  24915   16878   17017  539.0  LC08_CU_004002_20250510_20250518_02_SR   \n",
       "1  30553   22723   18696  531.0  LC08_CU_004002_20250526_20250606_02_SR   \n",
       "2  21290    8042    7762  742.0  LC08_CU_004002_20250424_20250503_02_SR   \n",
       "3  20637    7832    7657    NaN  LC08_CU_004002_20250501_20250511_02_SR   \n",
       "4  27251   12570   12144    NaN  LC09_CU_004002_20250518_20250721_02_SR   \n",
       "\n",
       "  station_triplet  latitude  longitude  elevation  \\\n",
       "0    1085:WA:SNTL  46.86956 -121.53434     5260.0   \n",
       "1    1085:WA:SNTL  46.86956 -121.53434     5260.0   \n",
       "2    1085:WA:SNTL  46.86956 -121.53434     5260.0   \n",
       "3    1085:WA:SNTL  46.86956 -121.53434     5260.0   \n",
       "4    1085:WA:SNTL  46.86956 -121.53434     5260.0   \n",
       "\n",
       "                          datetime  month  \n",
       "0 2025-05-10 18:49:15.298686+00:00      5  \n",
       "1 2025-05-26 18:49:08.643245+00:00      5  \n",
       "2 2025-04-24 18:49:03.983677+00:00      4  \n",
       "3 2025-05-01 18:55:04.333565+00:00      5  \n",
       "4 2025-05-18 18:49:11.983471+00:00      5  "
      ]
     },
     "execution_count": 2,
     "metadata": {},
     "output_type": "execute_result"
    }
   ],
   "source": [
    "training_df_raw = td_helpers.load_training_data()\n",
    "training_df = td_helpers.prepare_training_data(training_df_raw)\n",
    "training_df.head()"
   ]
  },
  {
   "cell_type": "markdown",
   "id": "d6b20f58-8e3c-42dd-a731-27465c3eb314",
   "metadata": {},
   "source": [
    "## 2. Prepare data for training\n",
    "\n",
    "1. Assess which columns have nan values and how many nans there are to determine if we should throw away the entire column or just a few rows.\n",
    "2. Load input and output columns from data frame and scale data."
   ]
  },
  {
   "cell_type": "code",
   "execution_count": 3,
   "id": "29e5da74-e95f-4f1e-8497-9043dd0bad18",
   "metadata": {},
   "outputs": [
    {
     "name": "stdout",
     "output_type": "stream",
     "text": [
      "       column  nan_count  nan_percentage\n",
      "5     coastal       4242       50.851115\n",
      "9        fsca       2842       34.068569\n",
      "14  elevation       1947       23.339727\n"
     ]
    }
   ],
   "source": [
    "nan_summary = pd.DataFrame({\n",
    "    'column': training_df.columns,\n",
    "    'nan_count': training_df.isnull().sum().values,\n",
    "    'nan_percentage': (training_df.isnull().sum() / len(training_df) * 100).values\n",
    "})\n",
    "nan_summary = nan_summary[nan_summary['nan_count'] > 0]  # Only show columns with NaNs\n",
    "print(nan_summary)"
   ]
  },
  {
   "cell_type": "markdown",
   "id": "3c02822e-8d87-4d7f-8433-b88ebeb4ad4e",
   "metadata": {},
   "source": [
    "We will not use coastal or fsca since a significant number of rows are NaN."
   ]
  },
  {
   "cell_type": "code",
   "execution_count": 4,
   "id": "a07fd62f",
   "metadata": {},
   "outputs": [],
   "source": [
    "input_columns = [\"red\", \"green\", \"blue\",  \"nir08\", \"swir16\", \"swir22\", \"latitude\", \"longitude\", \"month\"]\n",
    "input_data = training_df[input_columns]\n",
    "output_columns = ['snow_depth']\n",
    "output_data = training_df[output_columns].values\n",
    "\n",
    "X_scaler = MinMaxScaler()\n",
    "X_scaled = X_scaler.fit_transform(input_data).astype(np.float32)\n",
    "Y_scaler = MinMaxScaler()\n",
    "Y_scaled = Y_scaler.fit_transform(output_data).astype(np.float32)"
   ]
  },
  {
   "cell_type": "markdown",
   "id": "b7d6b699-1dc0-4666-8fbc-2c659d81bd49",
   "metadata": {},
   "source": [
    "## 3. Split data"
   ]
  },
  {
   "cell_type": "code",
   "execution_count": 5,
   "id": "eda9ee2b",
   "metadata": {},
   "outputs": [],
   "source": [
    "X_train, X_test, y_train, y_test = train_test_split(\n",
    "    X_scaled, Y_scaled, test_size=0.33, random_state=42)"
   ]
  },
  {
   "cell_type": "markdown",
   "id": "cb1af750",
   "metadata": {},
   "source": [
    "## 4. Train Linear Regression model"
   ]
  },
  {
   "cell_type": "code",
   "execution_count": 6,
   "id": "38613d0c-50da-4c64-8c63-9278107db4f5",
   "metadata": {},
   "outputs": [],
   "source": [
    "linear_model = LinearRegression()\n",
    "linear_model.fit(X_train, y_train)\n",
    "linear_y_pred = linear_model.predict(X_test)"
   ]
  },
  {
   "cell_type": "markdown",
   "id": "9941ab85-6e5c-49cb-aa65-40c2101612fa",
   "metadata": {},
   "source": [
    "## 5. Evaluate the model\n",
    "\n",
    "We evaluate the model using mean squared error (MSE) and the Pearson Correlation Coefficient.\n",
    "\n",
    "The Pearson Correlation Coefficient is 0.74, indicating a strong positive relationship between the actual data and the predicted data."
   ]
  },
  {
   "cell_type": "code",
   "execution_count": 7,
   "id": "52fd0b01-b83c-4caa-9f51-8cca20592abf",
   "metadata": {},
   "outputs": [
    {
     "data": {
      "text/plain": [
       "PearsonRResult(statistic=array([0.6853474], dtype=float32), pvalue=array([0.]))"
      ]
     },
     "execution_count": 7,
     "metadata": {},
     "output_type": "execute_result"
    }
   ],
   "source": [
    "linear_pearsonr = pearsonr(linear_y_pred, y_test)\n",
    "linear_pearsonr"
   ]
  },
  {
   "cell_type": "code",
   "execution_count": 8,
   "id": "96ad7a44",
   "metadata": {},
   "outputs": [
    {
     "data": {
      "text/plain": [
       "Text(0, 0.5, 'predicted snow depth')"
      ]
     },
     "execution_count": 8,
     "metadata": {},
     "output_type": "execute_result"
    },
    {
     "data": {
      "image/png": "[encoded data removed]",
      "text/plain": [
       "<Figure size 640x480 with 1 Axes>"
      ]
     },
     "metadata": {},
     "output_type": "display_data"
    }
   ],
   "source": [
    "plt.scatter(y_test[:,0], linear_y_pred)\n",
    "plt.xlabel(\"actual snow depth\")\n",
    "plt.ylabel(\"predicted snow depth\")"
   ]
  },
  {
   "cell_type": "markdown",
   "id": "e997762a-bd64-477e-8de7-673b4efead9e",
   "metadata": {},
   "source": [
    "The MSE is 0.028, which gives us something to evaluate other models against."
   ]
  },
  {
   "cell_type": "code",
   "execution_count": 9,
   "id": "9f54bb62-079f-4ab4-9c31-0d86c0df1d80",
   "metadata": {},
   "outputs": [
    {
     "data": {
      "text/plain": [
       "0.028858356177806854"
      ]
     },
     "execution_count": 9,
     "metadata": {},
     "output_type": "execute_result"
    }
   ],
   "source": [
    "mean_squared_error(linear_y_pred, y_test)"
   ]
  }
 ],
 "metadata": {
  "kernelspec": {
   "display_name": "Python 3 (ipykernel)",
   "language": "python",
   "name": "python3"
  },
  "language_info": {
   "codemirror_mode": {
    "name": "ipython",
    "version": 3
   },
   "file_extension": ".py",
   "mimetype": "text/x-python",
   "name": "python",
   "nbconvert_exporter": "python",
   "pygments_lexer": "ipython3",
   "version": "3.12.11"
  }
 },
 "nbformat": 4,
 "nbformat_minor": 5
}
