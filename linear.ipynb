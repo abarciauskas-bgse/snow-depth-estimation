{
 "cells": [
  {
   "cell_type": "code",
   "execution_count": 2,
   "id": "5f815515",
   "metadata": {},
   "outputs": [
    {
     "name": "stdout",
     "output_type": "stream",
     "text": [
      "epoch 0, loss 0.10295950621366501\n",
      "epoch 1, loss 0.07093824446201324\n",
      "epoch 2, loss 0.06637049466371536\n",
      "epoch 3, loss 0.06571615487337112\n",
      "epoch 4, loss 0.06561966985464096\n",
      "epoch 5, loss 0.06560274213552475\n",
      "epoch 6, loss 0.06559718400239944\n",
      "epoch 7, loss 0.06559327244758606\n",
      "epoch 8, loss 0.06558962166309357\n",
      "epoch 9, loss 0.06558603048324585\n",
      "epoch 10, loss 0.06558249145746231\n",
      "epoch 11, loss 0.06557896733283997\n",
      "epoch 12, loss 0.0655754879117012\n",
      "epoch 13, loss 0.06557203084230423\n",
      "epoch 14, loss 0.06556861847639084\n",
      "epoch 15, loss 0.06556522101163864\n",
      "epoch 16, loss 0.06556185334920883\n",
      "epoch 17, loss 0.06555851548910141\n",
      "epoch 18, loss 0.06555521488189697\n",
      "epoch 19, loss 0.06555194407701492\n"
     ]
    }
   ],
   "source": [
    "import torch\n",
    "from sklearn.preprocessing import MinMaxScaler\n",
    "from sklearn.model_selection import train_test_split\n",
    "import pandas as pd\n",
    "import numpy as np\n",
    "\n",
    "# Load data\n",
    "df = pd.read_parquet('snotel_data.parquet')\n",
    "input_columns = [f\"B{i:02d}\" for i in range(1, 11)]\n",
    "input_data = df[input_columns].values\n",
    "\n",
    "output_columns = ['snow_depth']\n",
    "output_data = df[output_columns].values\n",
    "\n",
    "# Scale data\n",
    "X_scaler = MinMaxScaler()\n",
    "X_scaled = X_scaler.fit_transform(input_data).astype(np.float32)\n",
    "Y_scaler = MinMaxScaler()\n",
    "Y_scaled = Y_scaler.fit_transform(output_data).astype(np.float32)\n",
    "\n",
    "# Split data\n",
    "X_train, X_test, y_train, y_test = train_test_split(\n",
    "    X_scaled, Y_scaled, test_size=0.33, random_state=42)\n",
    "\n",
    "# Convert to tensors\n",
    "x_training_data = torch.tensor(X_train, requires_grad=False)\n",
    "y_training_data = torch.tensor(y_train, requires_grad=False)\n",
    "\n",
    "# Define model\n",
    "model = torch.nn.Linear(10, 1, bias=False)\n",
    "\n",
    "# Define loss function and optimizer\n",
    "criterion = torch.nn.MSELoss()\n",
    "optimizer = torch.optim.SGD(model.parameters(), lr=0.1)\n",
    "\n",
    "# Train model\n",
    "for epoch in range(20):\n",
    "\n",
    "    # Forward pass: Compute predicted y by passing \n",
    "    # x to the model\n",
    "    pred_y = model(x_training_data)\n",
    "\n",
    "    # Compute and print loss\n",
    "    loss = criterion(pred_y, y_training_data)\n",
    "\n",
    "    # Zero gradients, perform a backward pass, \n",
    "    # and update the weights.\n",
    "    optimizer.zero_grad()\n",
    "    loss.backward()\n",
    "    optimizer.step()\n",
    "    print('epoch {}, loss {}'.format(epoch, loss.item()))"
   ]
  }
 ],
 "metadata": {
  "kernelspec": {
   "display_name": "ski-project",
   "language": "python",
   "name": "python3"
  },
  "language_info": {
   "codemirror_mode": {
    "name": "ipython",
    "version": 3
   },
   "file_extension": ".py",
   "mimetype": "text/x-python",
   "name": "python",
   "nbconvert_exporter": "python",
   "pygments_lexer": "ipython3",
   "version": "3.12.9"
  }
 },
 "nbformat": 4,
 "nbformat_minor": 5
}
