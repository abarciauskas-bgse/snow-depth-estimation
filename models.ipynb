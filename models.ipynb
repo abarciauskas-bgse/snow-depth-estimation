{
 "cells": [
  {
   "cell_type": "code",
   "execution_count": 11,
   "id": "5f815515",
   "metadata": {},
   "outputs": [],
   "source": [
    "from sklearn.preprocessing import MinMaxScaler\n",
    "from sklearn.model_selection import train_test_split\n",
    "from sklearn.linear_model import LinearRegression\n",
    "from sklearn.ensemble import RandomForestRegressor\n",
    "import pandas as pd\n",
    "import numpy as np\n",
    "from scipy.stats import pearsonr\n",
    "from matplotlib import pyplot as plt\n"
   ]
  },
  {
   "cell_type": "code",
   "execution_count": 12,
   "id": "ec68c499",
   "metadata": {},
   "outputs": [
    {
     "data": {
      "text/html": [
       "<div>\n",
       "<style scoped>\n",
       "    .dataframe tbody tr th:only-of-type {\n",
       "        vertical-align: middle;\n",
       "    }\n",
       "\n",
       "    .dataframe tbody tr th {\n",
       "        vertical-align: top;\n",
       "    }\n",
       "\n",
       "    .dataframe thead th {\n",
       "        text-align: right;\n",
       "    }\n",
       "</style>\n",
       "<table border=\"1\" class=\"dataframe\">\n",
       "  <thead>\n",
       "    <tr style=\"text-align: right;\">\n",
       "      <th></th>\n",
       "      <th>snow_depth</th>\n",
       "      <th>B01</th>\n",
       "      <th>B02</th>\n",
       "      <th>B03</th>\n",
       "      <th>B04</th>\n",
       "      <th>B05</th>\n",
       "      <th>B06</th>\n",
       "      <th>B07</th>\n",
       "      <th>B08</th>\n",
       "      <th>B09</th>\n",
       "      <th>B10</th>\n",
       "      <th>is_snow</th>\n",
       "    </tr>\n",
       "  </thead>\n",
       "  <tbody>\n",
       "    <tr>\n",
       "      <th>count</th>\n",
       "      <td>1173.000000</td>\n",
       "      <td>1173.000000</td>\n",
       "      <td>1173.000000</td>\n",
       "      <td>1173.000000</td>\n",
       "      <td>1173.000000</td>\n",
       "      <td>1173.000000</td>\n",
       "      <td>1173.000000</td>\n",
       "      <td>1173.000000</td>\n",
       "      <td>508.000000</td>\n",
       "      <td>1173.000000</td>\n",
       "      <td>1173.000000</td>\n",
       "      <td>1173.000000</td>\n",
       "    </tr>\n",
       "    <tr>\n",
       "      <th>mean</th>\n",
       "      <td>44.012788</td>\n",
       "      <td>3434.475703</td>\n",
       "      <td>3519.913043</td>\n",
       "      <td>3555.179881</td>\n",
       "      <td>3494.665814</td>\n",
       "      <td>3963.502131</td>\n",
       "      <td>2667.466326</td>\n",
       "      <td>2533.001705</td>\n",
       "      <td>4063.033465</td>\n",
       "      <td>890.605286</td>\n",
       "      <td>-127.798806</td>\n",
       "      <td>0.183291</td>\n",
       "    </tr>\n",
       "    <tr>\n",
       "      <th>std</th>\n",
       "      <td>46.783603</td>\n",
       "      <td>3510.476498</td>\n",
       "      <td>3448.842294</td>\n",
       "      <td>3286.112765</td>\n",
       "      <td>3279.042806</td>\n",
       "      <td>2971.052012</td>\n",
       "      <td>2608.248773</td>\n",
       "      <td>2581.475578</td>\n",
       "      <td>2588.951396</td>\n",
       "      <td>1630.725702</td>\n",
       "      <td>1482.819372</td>\n",
       "      <td>0.387070</td>\n",
       "    </tr>\n",
       "    <tr>\n",
       "      <th>min</th>\n",
       "      <td>0.000000</td>\n",
       "      <td>-9999.000000</td>\n",
       "      <td>-9999.000000</td>\n",
       "      <td>-9999.000000</td>\n",
       "      <td>-9999.000000</td>\n",
       "      <td>-9999.000000</td>\n",
       "      <td>-9999.000000</td>\n",
       "      <td>-9999.000000</td>\n",
       "      <td>-214.000000</td>\n",
       "      <td>-9999.000000</td>\n",
       "      <td>-9999.000000</td>\n",
       "      <td>0.000000</td>\n",
       "    </tr>\n",
       "    <tr>\n",
       "      <th>25%</th>\n",
       "      <td>0.000000</td>\n",
       "      <td>292.000000</td>\n",
       "      <td>336.000000</td>\n",
       "      <td>494.000000</td>\n",
       "      <td>431.000000</td>\n",
       "      <td>1865.000000</td>\n",
       "      <td>1025.000000</td>\n",
       "      <td>648.000000</td>\n",
       "      <td>2007.000000</td>\n",
       "      <td>36.000000</td>\n",
       "      <td>-668.000000</td>\n",
       "      <td>0.000000</td>\n",
       "    </tr>\n",
       "    <tr>\n",
       "      <th>50%</th>\n",
       "      <td>29.000000</td>\n",
       "      <td>2673.000000</td>\n",
       "      <td>3029.000000</td>\n",
       "      <td>3241.000000</td>\n",
       "      <td>3235.000000</td>\n",
       "      <td>3617.000000</td>\n",
       "      <td>1858.000000</td>\n",
       "      <td>1992.000000</td>\n",
       "      <td>3549.000000</td>\n",
       "      <td>432.000000</td>\n",
       "      <td>28.000000</td>\n",
       "      <td>0.000000</td>\n",
       "    </tr>\n",
       "    <tr>\n",
       "      <th>75%</th>\n",
       "      <td>85.000000</td>\n",
       "      <td>6157.000000</td>\n",
       "      <td>6046.000000</td>\n",
       "      <td>5849.000000</td>\n",
       "      <td>5744.000000</td>\n",
       "      <td>5965.000000</td>\n",
       "      <td>4078.000000</td>\n",
       "      <td>3759.000000</td>\n",
       "      <td>5650.000000</td>\n",
       "      <td>1175.000000</td>\n",
       "      <td>408.000000</td>\n",
       "      <td>0.000000</td>\n",
       "    </tr>\n",
       "    <tr>\n",
       "      <th>max</th>\n",
       "      <td>158.000000</td>\n",
       "      <td>15553.000000</td>\n",
       "      <td>15570.000000</td>\n",
       "      <td>16060.000000</td>\n",
       "      <td>15634.000000</td>\n",
       "      <td>16012.000000</td>\n",
       "      <td>16014.000000</td>\n",
       "      <td>16002.000000</td>\n",
       "      <td>16019.000000</td>\n",
       "      <td>12471.000000</td>\n",
       "      <td>4212.000000</td>\n",
       "      <td>1.000000</td>\n",
       "    </tr>\n",
       "  </tbody>\n",
       "</table>\n",
       "</div>"
      ],
      "text/plain": [
       "        snow_depth           B01           B02           B03           B04  \\\n",
       "count  1173.000000   1173.000000   1173.000000   1173.000000   1173.000000   \n",
       "mean     44.012788   3434.475703   3519.913043   3555.179881   3494.665814   \n",
       "std      46.783603   3510.476498   3448.842294   3286.112765   3279.042806   \n",
       "min       0.000000  -9999.000000  -9999.000000  -9999.000000  -9999.000000   \n",
       "25%       0.000000    292.000000    336.000000    494.000000    431.000000   \n",
       "50%      29.000000   2673.000000   3029.000000   3241.000000   3235.000000   \n",
       "75%      85.000000   6157.000000   6046.000000   5849.000000   5744.000000   \n",
       "max     158.000000  15553.000000  15570.000000  16060.000000  15634.000000   \n",
       "\n",
       "                B05           B06           B07           B08           B09  \\\n",
       "count   1173.000000   1173.000000   1173.000000    508.000000   1173.000000   \n",
       "mean    3963.502131   2667.466326   2533.001705   4063.033465    890.605286   \n",
       "std     2971.052012   2608.248773   2581.475578   2588.951396   1630.725702   \n",
       "min    -9999.000000  -9999.000000  -9999.000000   -214.000000  -9999.000000   \n",
       "25%     1865.000000   1025.000000    648.000000   2007.000000     36.000000   \n",
       "50%     3617.000000   1858.000000   1992.000000   3549.000000    432.000000   \n",
       "75%     5965.000000   4078.000000   3759.000000   5650.000000   1175.000000   \n",
       "max    16012.000000  16014.000000  16002.000000  16019.000000  12471.000000   \n",
       "\n",
       "               B10      is_snow  \n",
       "count  1173.000000  1173.000000  \n",
       "mean   -127.798806     0.183291  \n",
       "std    1482.819372     0.387070  \n",
       "min   -9999.000000     0.000000  \n",
       "25%    -668.000000     0.000000  \n",
       "50%      28.000000     0.000000  \n",
       "75%     408.000000     0.000000  \n",
       "max    4212.000000     1.000000  "
      ]
     },
     "execution_count": 12,
     "metadata": {},
     "output_type": "execute_result"
    }
   ],
   "source": [
    "# Load data\n",
    "df = pd.read_parquet('snotel_data.parquet')\n",
    "df.describe()"
   ]
  },
  {
   "cell_type": "code",
   "execution_count": 13,
   "id": "a07fd62f",
   "metadata": {},
   "outputs": [],
   "source": [
    "\n",
    "# Load input and output columns from data frame\n",
    "input_columns = [f\"B{i:02d}\" for i in range(1, 11)] + [\"is_snow\"]\n",
    "input_data = df[input_columns].values\n",
    "output_columns = ['snow_depth']\n",
    "output_data = df[output_columns].values\n"
   ]
  },
  {
   "cell_type": "code",
   "execution_count": 14,
   "id": "74362b2b",
   "metadata": {},
   "outputs": [],
   "source": [
    "# Scale data\n",
    "X_scaler = MinMaxScaler()\n",
    "X_scaled = X_scaler.fit_transform(input_data).astype(np.float32)\n",
    "Y_scaler = MinMaxScaler()\n",
    "Y_scaled = Y_scaler.fit_transform(output_data).astype(np.float32)"
   ]
  },
  {
   "cell_type": "code",
   "execution_count": 15,
   "id": "eda9ee2b",
   "metadata": {},
   "outputs": [],
   "source": [
    "\n",
    "# Split data\n",
    "X_train, X_test, y_train, y_test = train_test_split(\n",
    "    X_scaled, Y_scaled, test_size=0.33, random_state=42)\n"
   ]
  },
  {
   "cell_type": "code",
   "execution_count": 16,
   "id": "e51b3a3c",
   "metadata": {},
   "outputs": [
    {
     "data": {
      "text/plain": [
       "(1,)"
      ]
     },
     "execution_count": 16,
     "metadata": {},
     "output_type": "execute_result"
    }
   ],
   "source": [
    "y_test[0].shape"
   ]
  },
  {
   "cell_type": "markdown",
   "id": "ca9744ba",
   "metadata": {},
   "source": [
    "# Train models\n",
    "\n",
    "## Linear model\n",
    "\n"
   ]
  },
  {
   "cell_type": "code",
   "execution_count": 18,
   "id": "30ba7c1f",
   "metadata": {},
   "outputs": [],
   "source": [
    "# linear_model = LinearRegression()\n",
    "# linear_model.fit(X_train, y_train)\n",
    "# linear_y_pred = linear_model.predict(X_test)\n",
    "# linear_pearsonr = pearsonr(linear_y_pred, y_test)\n",
    "# linear_pearsonr"
   ]
  },
  {
   "cell_type": "markdown",
   "id": "cb1af750",
   "metadata": {},
   "source": [
    "## Random Forest model"
   ]
  },
  {
   "cell_type": "code",
   "execution_count": 19,
   "id": "648ba895",
   "metadata": {},
   "outputs": [
    {
     "name": "stderr",
     "output_type": "stream",
     "text": [
      "/Users/aimeebarciauskas/github/ski-project/ski-project/lib/python3.12/site-packages/sklearn/base.py:1365: DataConversionWarning: A column-vector y was passed when a 1d array was expected. Please change the shape of y to (n_samples,), for example using ravel().\n",
      "  return fit_method(estimator, *args, **kwargs)\n"
     ]
    },
    {
     "data": {
      "text/plain": [
       "PearsonRResult(statistic=np.float64(0.7079498927219733), pvalue=np.float64(2.87228320314121e-60))"
      ]
     },
     "execution_count": 19,
     "metadata": {},
     "output_type": "execute_result"
    }
   ],
   "source": [
    "rf_model = RandomForestRegressor(n_estimators=100, random_state=42)\n",
    "rf_model.fit(X_train, y_train)\n",
    "random_forest_y_pred = rf_model.predict(X_test)\n",
    "random_forest_pearsonr = pearsonr(random_forest_y_pred, y_test[:,0])\n",
    "random_forest_pearsonr"
   ]
  },
  {
   "cell_type": "code",
   "execution_count": 20,
   "id": "96ad7a44",
   "metadata": {},
   "outputs": [
    {
     "data": {
      "text/plain": [
       "<matplotlib.collections.PathCollection at 0x145defec0>"
      ]
     },
     "execution_count": 20,
     "metadata": {},
     "output_type": "execute_result"
    },
    {
     "data": {
      "image/png": "[encoded data removed]",
      "text/plain": [
       "<Figure size 640x480 with 1 Axes>"
      ]
     },
     "metadata": {},
     "output_type": "display_data"
    }
   ],
   "source": [
    "plt.scatter(y_test[:,0], random_forest_y_pred)"
   ]
  },
  {
   "cell_type": "code",
   "execution_count": 10,
   "id": "93f82bef",
   "metadata": {},
   "outputs": [
    {
     "name": "stdout",
     "output_type": "stream",
     "text": [
      "Models and scalers saved successfully!\n"
     ]
    }
   ],
   "source": [
    "# Save models and scalers\n",
    "import joblib\n",
    "\n",
    "# Save individual models\n",
    "joblib.dump(rf_model, 'random_forest_model.pkl')\n",
    "joblib.dump(X_scaler, 'X_scaler.pkl')\n",
    "joblib.dump(Y_scaler, 'Y_scaler.pkl')\n",
    "\n",
    "print(\"Models and scalers saved successfully!\")\n"
   ]
  },
  {
   "cell_type": "code",
   "execution_count": null,
   "id": "980b58fe",
   "metadata": {},
   "outputs": [],
   "source": []
  }
 ],
 "metadata": {
  "kernelspec": {
   "display_name": "ski-project",
   "language": "python",
   "name": "python3"
  },
  "language_info": {
   "codemirror_mode": {
    "name": "ipython",
    "version": 3
   },
   "file_extension": ".py",
   "mimetype": "text/x-python",
   "name": "python",
   "nbconvert_exporter": "python",
   "pygments_lexer": "ipython3",
   "version": "3.12.9"
  }
 },
 "nbformat": 4,
 "nbformat_minor": 5
}
