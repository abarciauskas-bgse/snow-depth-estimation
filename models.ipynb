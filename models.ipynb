{
 "cells": [
  {
   "cell_type": "code",
   "execution_count": 1,
   "id": "5f815515",
   "metadata": {},
   "outputs": [],
   "source": [
    "from sklearn.preprocessing import MinMaxScaler\n",
    "from sklearn.model_selection import train_test_split\n",
    "from sklearn.linear_model import LinearRegression\n",
    "from sklearn.ensemble import RandomForestRegressor\n",
    "import pandas as pd\n",
    "import numpy as np\n",
    "from scipy.stats import pearsonr\n",
    "from matplotlib import pyplot as plt\n"
   ]
  },
  {
   "cell_type": "code",
   "execution_count": 8,
   "id": "ec68c499",
   "metadata": {},
   "outputs": [
    {
     "data": {
      "text/html": [
       "<div>\n",
       "<style scoped>\n",
       "    .dataframe tbody tr th:only-of-type {\n",
       "        vertical-align: middle;\n",
       "    }\n",
       "\n",
       "    .dataframe tbody tr th {\n",
       "        vertical-align: top;\n",
       "    }\n",
       "\n",
       "    .dataframe thead th {\n",
       "        text-align: right;\n",
       "    }\n",
       "</style>\n",
       "<table border=\"1\" class=\"dataframe\">\n",
       "  <thead>\n",
       "    <tr style=\"text-align: right;\">\n",
       "      <th></th>\n",
       "      <th>date</th>\n",
       "      <th>snow_depth</th>\n",
       "      <th>B01</th>\n",
       "      <th>B02</th>\n",
       "      <th>B03</th>\n",
       "      <th>B04</th>\n",
       "      <th>B05</th>\n",
       "      <th>B06</th>\n",
       "      <th>B07</th>\n",
       "      <th>B08</th>\n",
       "      <th>B09</th>\n",
       "      <th>B10</th>\n",
       "      <th>is_snow</th>\n",
       "      <th>granule_id</th>\n",
       "      <th>station_triplet</th>\n",
       "    </tr>\n",
       "  </thead>\n",
       "  <tbody>\n",
       "    <tr>\n",
       "      <th>4266</th>\n",
       "      <td>2013-04-30T18:57:49.955Z</td>\n",
       "      <td>136</td>\n",
       "      <td>5573</td>\n",
       "      <td>5573</td>\n",
       "      <td>5329</td>\n",
       "      <td>5191</td>\n",
       "      <td>5414</td>\n",
       "      <td>1045</td>\n",
       "      <td>1016</td>\n",
       "      <td>-9999</td>\n",
       "      <td>123</td>\n",
       "      <td>-507</td>\n",
       "      <td>0</td>\n",
       "      <td>G2246948039-LPCLOUD</td>\n",
       "      <td>1085:WA:SNTL</td>\n",
       "    </tr>\n",
       "    <tr>\n",
       "      <th>4267</th>\n",
       "      <td>2013-05-16T18:58:02.239Z</td>\n",
       "      <td>87</td>\n",
       "      <td>4008</td>\n",
       "      <td>4203</td>\n",
       "      <td>4684</td>\n",
       "      <td>4732</td>\n",
       "      <td>4590</td>\n",
       "      <td>114</td>\n",
       "      <td>71</td>\n",
       "      <td>-9999</td>\n",
       "      <td>10</td>\n",
       "      <td>709</td>\n",
       "      <td>1</td>\n",
       "      <td>G2244110989-LPCLOUD</td>\n",
       "      <td>1085:WA:SNTL</td>\n",
       "    </tr>\n",
       "    <tr>\n",
       "      <th>4268</th>\n",
       "      <td>2013-04-14T18:57:28.350Z</td>\n",
       "      <td>151</td>\n",
       "      <td>8361</td>\n",
       "      <td>8172</td>\n",
       "      <td>7721</td>\n",
       "      <td>7543</td>\n",
       "      <td>7328</td>\n",
       "      <td>1739</td>\n",
       "      <td>1768</td>\n",
       "      <td>-9999</td>\n",
       "      <td>344</td>\n",
       "      <td>-1820</td>\n",
       "      <td>0</td>\n",
       "      <td>G2246987473-LPCLOUD</td>\n",
       "      <td>1085:WA:SNTL</td>\n",
       "    </tr>\n",
       "    <tr>\n",
       "      <th>4269</th>\n",
       "      <td>2013-04-14T18:57:52.232Z</td>\n",
       "      <td>151</td>\n",
       "      <td>8383</td>\n",
       "      <td>8194</td>\n",
       "      <td>7749</td>\n",
       "      <td>7569</td>\n",
       "      <td>7349</td>\n",
       "      <td>1745</td>\n",
       "      <td>1775</td>\n",
       "      <td>-9999</td>\n",
       "      <td>344</td>\n",
       "      <td>-1820</td>\n",
       "      <td>0</td>\n",
       "      <td>G2246987419-LPCLOUD</td>\n",
       "      <td>1085:WA:SNTL</td>\n",
       "    </tr>\n",
       "    <tr>\n",
       "      <th>4270</th>\n",
       "      <td>2013-05-25T18:51:55.218Z</td>\n",
       "      <td>87</td>\n",
       "      <td>6581</td>\n",
       "      <td>6631</td>\n",
       "      <td>6445</td>\n",
       "      <td>6385</td>\n",
       "      <td>6530</td>\n",
       "      <td>4548</td>\n",
       "      <td>3768</td>\n",
       "      <td>-9999</td>\n",
       "      <td>51</td>\n",
       "      <td>-349</td>\n",
       "      <td>0</td>\n",
       "      <td>G2243830722-LPCLOUD</td>\n",
       "      <td>1085:WA:SNTL</td>\n",
       "    </tr>\n",
       "  </tbody>\n",
       "</table>\n",
       "</div>"
      ],
      "text/plain": [
       "                          date  snow_depth   B01   B02   B03   B04   B05  \\\n",
       "4266  2013-04-30T18:57:49.955Z         136  5573  5573  5329  5191  5414   \n",
       "4267  2013-05-16T18:58:02.239Z          87  4008  4203  4684  4732  4590   \n",
       "4268  2013-04-14T18:57:28.350Z         151  8361  8172  7721  7543  7328   \n",
       "4269  2013-04-14T18:57:52.232Z         151  8383  8194  7749  7569  7349   \n",
       "4270  2013-05-25T18:51:55.218Z          87  6581  6631  6445  6385  6530   \n",
       "\n",
       "       B06   B07   B08  B09   B10  is_snow           granule_id  \\\n",
       "4266  1045  1016 -9999  123  -507        0  G2246948039-LPCLOUD   \n",
       "4267   114    71 -9999   10   709        1  G2244110989-LPCLOUD   \n",
       "4268  1739  1768 -9999  344 -1820        0  G2246987473-LPCLOUD   \n",
       "4269  1745  1775 -9999  344 -1820        0  G2246987419-LPCLOUD   \n",
       "4270  4548  3768 -9999   51  -349        0  G2243830722-LPCLOUD   \n",
       "\n",
       "     station_triplet  \n",
       "4266    1085:WA:SNTL  \n",
       "4267    1085:WA:SNTL  \n",
       "4268    1085:WA:SNTL  \n",
       "4269    1085:WA:SNTL  \n",
       "4270    1085:WA:SNTL  "
      ]
     },
     "execution_count": 8,
     "metadata": {},
     "output_type": "execute_result"
    }
   ],
   "source": [
    "\n",
    "# Load data\n",
    "df = pd.read_parquet('snotel_data.parquet')\n",
    "df = df[df.station_triplet == '1085:WA:SNTL']\n",
    "df.head()"
   ]
  },
  {
   "cell_type": "code",
   "execution_count": 9,
   "id": "a07fd62f",
   "metadata": {},
   "outputs": [],
   "source": [
    "\n",
    "# Load input and output columns from data frame\n",
    "input_columns = [f\"B{i:02d}\" for i in range(1, 11)] + [\"is_snow\"]\n",
    "input_data = df[input_columns].values\n",
    "output_columns = ['snow_depth']\n",
    "output_data = df[output_columns].values\n"
   ]
  },
  {
   "cell_type": "code",
   "execution_count": 10,
   "id": "74362b2b",
   "metadata": {},
   "outputs": [],
   "source": [
    "# Scale data\n",
    "X_scaler = MinMaxScaler()\n",
    "X_scaled = X_scaler.fit_transform(input_data).astype(np.float32)\n",
    "Y_scaler = MinMaxScaler()\n",
    "Y_scaled = Y_scaler.fit_transform(output_data).astype(np.float32)"
   ]
  },
  {
   "cell_type": "code",
   "execution_count": 11,
   "id": "eda9ee2b",
   "metadata": {},
   "outputs": [],
   "source": [
    "\n",
    "# Split data\n",
    "X_train, X_test, y_train, y_test = train_test_split(\n",
    "    X_scaled, Y_scaled, test_size=0.33, random_state=42)\n"
   ]
  },
  {
   "cell_type": "code",
   "execution_count": 19,
   "id": "e51b3a3c",
   "metadata": {},
   "outputs": [
    {
     "data": {
      "text/plain": [
       "(1,)"
      ]
     },
     "execution_count": 19,
     "metadata": {},
     "output_type": "execute_result"
    }
   ],
   "source": [
    "y_test[0].shape"
   ]
  },
  {
   "cell_type": "markdown",
   "id": "ca9744ba",
   "metadata": {},
   "source": [
    "# Train models\n",
    "\n",
    "## Linear model\n",
    "\n"
   ]
  },
  {
   "cell_type": "code",
   "execution_count": 12,
   "id": "30ba7c1f",
   "metadata": {},
   "outputs": [
    {
     "data": {
      "text/plain": [
       "PearsonRResult(statistic=array([0.55405915], dtype=float32), pvalue=array([2.61175487e-20]))"
      ]
     },
     "execution_count": 12,
     "metadata": {},
     "output_type": "execute_result"
    }
   ],
   "source": [
    "linear_model = LinearRegression()\n",
    "linear_model.fit(X_train, y_train)\n",
    "linear_y_pred = linear_model.predict(X_test)\n",
    "linear_pearsonr = pearsonr(linear_y_pred, y_test)\n",
    "linear_pearsonr"
   ]
  },
  {
   "cell_type": "markdown",
   "id": "cb1af750",
   "metadata": {},
   "source": [
    "## Random Forest model"
   ]
  },
  {
   "cell_type": "code",
   "execution_count": 13,
   "id": "648ba895",
   "metadata": {},
   "outputs": [
    {
     "name": "stderr",
     "output_type": "stream",
     "text": [
      "/Users/aimeebarciauskas/github/ski-project/ski-project/lib/python3.12/site-packages/sklearn/base.py:1365: DataConversionWarning: A column-vector y was passed when a 1d array was expected. Please change the shape of y to (n_samples,), for example using ravel().\n",
      "  return fit_method(estimator, *args, **kwargs)\n"
     ]
    },
    {
     "data": {
      "text/plain": [
       "PearsonRResult(statistic=np.float64(0.8735026567970244), pvalue=np.float64(8.563885084545651e-75))"
      ]
     },
     "execution_count": 13,
     "metadata": {},
     "output_type": "execute_result"
    }
   ],
   "source": [
    "rf_model = RandomForestRegressor(n_estimators=100, random_state=42)\n",
    "rf_model.fit(X_train, y_train)\n",
    "random_forest_y_pred = rf_model.predict(X_test)\n",
    "random_forest_pearsonr = pearsonr(random_forest_y_pred, y_test[:,0])\n",
    "random_forest_pearsonr"
   ]
  },
  {
   "cell_type": "code",
   "execution_count": 14,
   "id": "96ad7a44",
   "metadata": {},
   "outputs": [
    {
     "data": {
      "text/plain": [
       "<matplotlib.collections.PathCollection at 0x12a4752e0>"
      ]
     },
     "execution_count": 14,
     "metadata": {},
     "output_type": "execute_result"
    },
    {
     "data": {
      "image/png": "[encoded data removed]",
      "text/plain": [
       "<Figure size 640x480 with 1 Axes>"
      ]
     },
     "metadata": {},
     "output_type": "display_data"
    }
   ],
   "source": [
    "plt.scatter(y_test[:,0], random_forest_y_pred)"
   ]
  },
  {
   "cell_type": "code",
   "execution_count": 16,
   "id": "93f82bef",
   "metadata": {},
   "outputs": [
    {
     "name": "stdout",
     "output_type": "stream",
     "text": [
      "Models and scalers saved successfully!\n"
     ]
    }
   ],
   "source": [
    "# Save models and scalers\n",
    "import joblib\n",
    "\n",
    "# Save individual models\n",
    "joblib.dump(rf_model, 'random_forest_model.pkl')\n",
    "joblib.dump(X_scaler, 'X_scaler.pkl')\n",
    "joblib.dump(Y_scaler, 'Y_scaler.pkl')\n",
    "\n",
    "print(\"Models and scalers saved successfully!\")\n"
   ]
  },
  {
   "cell_type": "code",
   "execution_count": null,
   "id": "a20ca406",
   "metadata": {},
   "outputs": [],
   "source": []
  }
 ],
 "metadata": {
  "kernelspec": {
   "display_name": "ski-project",
   "language": "python",
   "name": "python3"
  },
  "language_info": {
   "codemirror_mode": {
    "name": "ipython",
    "version": 3
   },
   "file_extension": ".py",
   "mimetype": "text/x-python",
   "name": "python",
   "nbconvert_exporter": "python",
   "pygments_lexer": "ipython3",
   "version": "3.12.9"
  }
 },
 "nbformat": 4,
 "nbformat_minor": 5
}
