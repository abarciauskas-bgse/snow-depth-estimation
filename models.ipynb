{
 "cells": [
  {
   "cell_type": "code",
   "execution_count": 1,
   "id": "5f815515",
   "metadata": {},
   "outputs": [],
   "source": [
    "from sklearn.preprocessing import MinMaxScaler\n",
    "from sklearn.model_selection import train_test_split\n",
    "from sklearn.linear_model import LinearRegression\n",
    "from sklearn.ensemble import RandomForestRegressor\n",
    "import pandas as pd\n",
    "import numpy as np\n",
    "from scipy.stats import pearsonr\n",
    "from matplotlib import pyplot as plt\n"
   ]
  },
  {
   "cell_type": "code",
   "execution_count": 2,
   "id": "ec68c499",
   "metadata": {},
   "outputs": [
    {
     "data": {
      "text/html": [
       "<div>\n",
       "<style scoped>\n",
       "    .dataframe tbody tr th:only-of-type {\n",
       "        vertical-align: middle;\n",
       "    }\n",
       "\n",
       "    .dataframe tbody tr th {\n",
       "        vertical-align: top;\n",
       "    }\n",
       "\n",
       "    .dataframe thead th {\n",
       "        text-align: right;\n",
       "    }\n",
       "</style>\n",
       "<table border=\"1\" class=\"dataframe\">\n",
       "  <thead>\n",
       "    <tr style=\"text-align: right;\">\n",
       "      <th></th>\n",
       "      <th>date</th>\n",
       "      <th>snow_depth</th>\n",
       "      <th>B01</th>\n",
       "      <th>B02</th>\n",
       "      <th>B03</th>\n",
       "      <th>B04</th>\n",
       "      <th>B05</th>\n",
       "      <th>B06</th>\n",
       "      <th>B07</th>\n",
       "      <th>B08</th>\n",
       "      <th>B09</th>\n",
       "      <th>B10</th>\n",
       "      <th>is_snow</th>\n",
       "      <th>granule_id</th>\n",
       "      <th>station_triplet</th>\n",
       "    </tr>\n",
       "  </thead>\n",
       "  <tbody>\n",
       "    <tr>\n",
       "      <th>2432</th>\n",
       "      <td>2013-04-14T18:57:52.232Z</td>\n",
       "      <td>119</td>\n",
       "      <td>5757</td>\n",
       "      <td>5671</td>\n",
       "      <td>5544</td>\n",
       "      <td>5451</td>\n",
       "      <td>5809</td>\n",
       "      <td>1693</td>\n",
       "      <td>1491</td>\n",
       "      <td>-9999</td>\n",
       "      <td>91</td>\n",
       "      <td>-966</td>\n",
       "      <td>0</td>\n",
       "      <td>G2246987419-LPCLOUD</td>\n",
       "      <td>642:WA:SNTL</td>\n",
       "    </tr>\n",
       "    <tr>\n",
       "      <th>2433</th>\n",
       "      <td>2013-04-30T18:57:49.955Z</td>\n",
       "      <td>105</td>\n",
       "      <td>3946</td>\n",
       "      <td>3779</td>\n",
       "      <td>3500</td>\n",
       "      <td>3290</td>\n",
       "      <td>3616</td>\n",
       "      <td>1335</td>\n",
       "      <td>1154</td>\n",
       "      <td>-9999</td>\n",
       "      <td>188</td>\n",
       "      <td>-1305</td>\n",
       "      <td>0</td>\n",
       "      <td>G2246948039-LPCLOUD</td>\n",
       "      <td>642:WA:SNTL</td>\n",
       "    </tr>\n",
       "    <tr>\n",
       "      <th>2434</th>\n",
       "      <td>2013-05-16T18:58:02.239Z</td>\n",
       "      <td>68</td>\n",
       "      <td>1114</td>\n",
       "      <td>1163</td>\n",
       "      <td>1473</td>\n",
       "      <td>1459</td>\n",
       "      <td>1748</td>\n",
       "      <td>180</td>\n",
       "      <td>119</td>\n",
       "      <td>-9999</td>\n",
       "      <td>16</td>\n",
       "      <td>295</td>\n",
       "      <td>0</td>\n",
       "      <td>G2244110989-LPCLOUD</td>\n",
       "      <td>642:WA:SNTL</td>\n",
       "    </tr>\n",
       "    <tr>\n",
       "      <th>2435</th>\n",
       "      <td>2013-04-23T18:51:38.326Z</td>\n",
       "      <td>111</td>\n",
       "      <td>6032</td>\n",
       "      <td>5995</td>\n",
       "      <td>5623</td>\n",
       "      <td>5493</td>\n",
       "      <td>5559</td>\n",
       "      <td>1518</td>\n",
       "      <td>1601</td>\n",
       "      <td>-9999</td>\n",
       "      <td>278</td>\n",
       "      <td>-1610</td>\n",
       "      <td>0</td>\n",
       "      <td>G2246987880-LPCLOUD</td>\n",
       "      <td>642:WA:SNTL</td>\n",
       "    </tr>\n",
       "    <tr>\n",
       "      <th>2436</th>\n",
       "      <td>2013-04-14T18:57:28.350Z</td>\n",
       "      <td>119</td>\n",
       "      <td>5742</td>\n",
       "      <td>5656</td>\n",
       "      <td>5525</td>\n",
       "      <td>5432</td>\n",
       "      <td>5793</td>\n",
       "      <td>1687</td>\n",
       "      <td>1485</td>\n",
       "      <td>-9999</td>\n",
       "      <td>91</td>\n",
       "      <td>-966</td>\n",
       "      <td>0</td>\n",
       "      <td>G2246987473-LPCLOUD</td>\n",
       "      <td>642:WA:SNTL</td>\n",
       "    </tr>\n",
       "  </tbody>\n",
       "</table>\n",
       "</div>"
      ],
      "text/plain": [
       "                          date  snow_depth   B01   B02   B03   B04   B05  \\\n",
       "2432  2013-04-14T18:57:52.232Z         119  5757  5671  5544  5451  5809   \n",
       "2433  2013-04-30T18:57:49.955Z         105  3946  3779  3500  3290  3616   \n",
       "2434  2013-05-16T18:58:02.239Z          68  1114  1163  1473  1459  1748   \n",
       "2435  2013-04-23T18:51:38.326Z         111  6032  5995  5623  5493  5559   \n",
       "2436  2013-04-14T18:57:28.350Z         119  5742  5656  5525  5432  5793   \n",
       "\n",
       "       B06   B07   B08  B09   B10  is_snow           granule_id  \\\n",
       "2432  1693  1491 -9999   91  -966        0  G2246987419-LPCLOUD   \n",
       "2433  1335  1154 -9999  188 -1305        0  G2246948039-LPCLOUD   \n",
       "2434   180   119 -9999   16   295        0  G2244110989-LPCLOUD   \n",
       "2435  1518  1601 -9999  278 -1610        0  G2246987880-LPCLOUD   \n",
       "2436  1687  1485 -9999   91  -966        0  G2246987473-LPCLOUD   \n",
       "\n",
       "     station_triplet  \n",
       "2432     642:WA:SNTL  \n",
       "2433     642:WA:SNTL  \n",
       "2434     642:WA:SNTL  \n",
       "2435     642:WA:SNTL  \n",
       "2436     642:WA:SNTL  "
      ]
     },
     "execution_count": 2,
     "metadata": {},
     "output_type": "execute_result"
    }
   ],
   "source": [
    "\n",
    "# Load data\n",
    "df = pd.read_parquet('snotel_data.parquet')\n",
    "df = df[df.station_triplet == '642:WA:SNTL']\n",
    "df.head()"
   ]
  },
  {
   "cell_type": "code",
   "execution_count": 3,
   "id": "a07fd62f",
   "metadata": {},
   "outputs": [],
   "source": [
    "\n",
    "# Load input and output columns from data frame\n",
    "input_columns = [f\"B{i:02d}\" for i in range(1, 11)] + [\"is_snow\"]\n",
    "input_data = df[input_columns].values\n",
    "output_columns = ['snow_depth']\n",
    "output_data = df[output_columns].values\n"
   ]
  },
  {
   "cell_type": "code",
   "execution_count": 4,
   "id": "74362b2b",
   "metadata": {},
   "outputs": [],
   "source": [
    "# Scale data\n",
    "X_scaler = MinMaxScaler()\n",
    "X_scaled = X_scaler.fit_transform(input_data).astype(np.float32)\n",
    "Y_scaler = MinMaxScaler()\n",
    "Y_scaled = Y_scaler.fit_transform(output_data).astype(np.float32)"
   ]
  },
  {
   "cell_type": "code",
   "execution_count": 5,
   "id": "eda9ee2b",
   "metadata": {},
   "outputs": [],
   "source": [
    "\n",
    "# Split data\n",
    "X_train, X_test, y_train, y_test = train_test_split(\n",
    "    X_scaled, Y_scaled, test_size=0.33, random_state=42)\n"
   ]
  },
  {
   "cell_type": "markdown",
   "id": "ca9744ba",
   "metadata": {},
   "source": [
    "# Train models\n",
    "\n",
    "## Linear model\n",
    "\n"
   ]
  },
  {
   "cell_type": "code",
   "execution_count": 14,
   "id": "30ba7c1f",
   "metadata": {},
   "outputs": [
    {
     "data": {
      "text/plain": [
       "PearsonRResult(statistic=array([0.5977261], dtype=float32), pvalue=array([5.71165855e-60]))"
      ]
     },
     "execution_count": 14,
     "metadata": {},
     "output_type": "execute_result"
    }
   ],
   "source": [
    "linear_model = LinearRegression()\n",
    "linear_model.fit(X_train, y_train)\n",
    "linear_y_pred = linear_model.predict(X_test)\n",
    "linear_pearsonr = pearsonr(linear_y_pred, y_test)\n",
    "linear_pearsonr"
   ]
  },
  {
   "cell_type": "markdown",
   "id": "cb1af750",
   "metadata": {},
   "source": [
    "## Random Forest model"
   ]
  },
  {
   "cell_type": "code",
   "execution_count": 15,
   "id": "648ba895",
   "metadata": {},
   "outputs": [
    {
     "name": "stderr",
     "output_type": "stream",
     "text": [
      "/Users/aimeebarciauskas/github/ski-project/ski-project/lib/python3.12/site-packages/sklearn/base.py:1365: DataConversionWarning: A column-vector y was passed when a 1d array was expected. Please change the shape of y to (n_samples,), for example using ravel().\n",
      "  return fit_method(estimator, *args, **kwargs)\n"
     ]
    },
    {
     "data": {
      "text/plain": [
       "PearsonRResult(statistic=np.float64(0.8651354035383223), pvalue=np.float64(3.6110275112210146e-183))"
      ]
     },
     "execution_count": 15,
     "metadata": {},
     "output_type": "execute_result"
    }
   ],
   "source": [
    "rf_model = RandomForestRegressor(n_estimators=100, random_state=42)\n",
    "rf_model.fit(X_train, y_train)\n",
    "random_forest_y_pred = rf_model.predict(X_test)\n",
    "random_forest_pearsonr = pearsonr(random_forest_y_pred, y_test[:,0])\n",
    "random_forest_pearsonr"
   ]
  },
  {
   "cell_type": "code",
   "execution_count": null,
   "id": "96ad7a44",
   "metadata": {},
   "outputs": [],
   "source": []
  }
 ],
 "metadata": {
  "kernelspec": {
   "display_name": "ski-project",
   "language": "python",
   "name": "python3"
  },
  "language_info": {
   "codemirror_mode": {
    "name": "ipython",
    "version": 3
   },
   "file_extension": ".py",
   "mimetype": "text/x-python",
   "name": "python",
   "nbconvert_exporter": "python",
   "pygments_lexer": "ipython3",
   "version": "3.12.9"
  }
 },
 "nbformat": 4,
 "nbformat_minor": 5
}
