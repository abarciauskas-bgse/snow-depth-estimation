{
 "cells": [
  {
   "cell_type": "code",
   "execution_count": 13,
   "id": "5f815515",
   "metadata": {},
   "outputs": [],
   "source": [
    "from sklearn.preprocessing import MinMaxScaler\n",
    "from sklearn.model_selection import train_test_split\n",
    "from sklearn.linear_model import LinearRegression\n",
    "from sklearn.ensemble import RandomForestRegressor\n",
    "import pandas as pd\n",
    "import numpy as np\n",
    "from scipy.stats import pearsonr\n",
    "from matplotlib import pyplot as plt\n"
   ]
  },
  {
   "cell_type": "code",
   "execution_count": 14,
   "id": "ec68c499",
   "metadata": {},
   "outputs": [
    {
     "data": {
      "text/html": [
       "<div>\n",
       "<style scoped>\n",
       "    .dataframe tbody tr th:only-of-type {\n",
       "        vertical-align: middle;\n",
       "    }\n",
       "\n",
       "    .dataframe tbody tr th {\n",
       "        vertical-align: top;\n",
       "    }\n",
       "\n",
       "    .dataframe thead th {\n",
       "        text-align: right;\n",
       "    }\n",
       "</style>\n",
       "<table border=\"1\" class=\"dataframe\">\n",
       "  <thead>\n",
       "    <tr style=\"text-align: right;\">\n",
       "      <th></th>\n",
       "      <th>date</th>\n",
       "      <th>snow_depth</th>\n",
       "      <th>red</th>\n",
       "      <th>green</th>\n",
       "      <th>blue</th>\n",
       "      <th>coastal</th>\n",
       "      <th>nir08</th>\n",
       "      <th>swir16</th>\n",
       "      <th>swir22</th>\n",
       "      <th>fsca</th>\n",
       "      <th>item_id</th>\n",
       "      <th>station_triplet</th>\n",
       "      <th>latitude</th>\n",
       "      <th>longitude</th>\n",
       "      <th>elevation</th>\n",
       "    </tr>\n",
       "  </thead>\n",
       "  <tbody>\n",
       "    <tr>\n",
       "      <th>0</th>\n",
       "      <td>2025-05-10T18:49:15.298686Z</td>\n",
       "      <td>87</td>\n",
       "      <td>23783</td>\n",
       "      <td>24067</td>\n",
       "      <td>24563</td>\n",
       "      <td>24717.0</td>\n",
       "      <td>24915</td>\n",
       "      <td>16878</td>\n",
       "      <td>17017</td>\n",
       "      <td>539.0</td>\n",
       "      <td>LC08_CU_004002_20250510_20250518_02_SR</td>\n",
       "      <td>1085:WA:SNTL</td>\n",
       "      <td>46.86956</td>\n",
       "      <td>-121.53434</td>\n",
       "      <td>5260.0</td>\n",
       "    </tr>\n",
       "    <tr>\n",
       "      <th>1</th>\n",
       "      <td>2025-05-26T18:49:08.643245Z</td>\n",
       "      <td>64</td>\n",
       "      <td>30420</td>\n",
       "      <td>30484</td>\n",
       "      <td>31724</td>\n",
       "      <td>31765.0</td>\n",
       "      <td>30553</td>\n",
       "      <td>22723</td>\n",
       "      <td>18696</td>\n",
       "      <td>531.0</td>\n",
       "      <td>LC08_CU_004002_20250526_20250606_02_SR</td>\n",
       "      <td>1085:WA:SNTL</td>\n",
       "      <td>46.86956</td>\n",
       "      <td>-121.53434</td>\n",
       "      <td>5260.0</td>\n",
       "    </tr>\n",
       "    <tr>\n",
       "      <th>2</th>\n",
       "      <td>2025-04-24T18:49:03.983677Z</td>\n",
       "      <td>121</td>\n",
       "      <td>20230</td>\n",
       "      <td>20543</td>\n",
       "      <td>20727</td>\n",
       "      <td>19248.0</td>\n",
       "      <td>21290</td>\n",
       "      <td>8042</td>\n",
       "      <td>7762</td>\n",
       "      <td>742.0</td>\n",
       "      <td>LC08_CU_004002_20250424_20250503_02_SR</td>\n",
       "      <td>1085:WA:SNTL</td>\n",
       "      <td>46.86956</td>\n",
       "      <td>-121.53434</td>\n",
       "      <td>5260.0</td>\n",
       "    </tr>\n",
       "    <tr>\n",
       "      <th>3</th>\n",
       "      <td>2025-05-01T18:55:04.333565Z</td>\n",
       "      <td>109</td>\n",
       "      <td>20102</td>\n",
       "      <td>19735</td>\n",
       "      <td>20009</td>\n",
       "      <td>18958.0</td>\n",
       "      <td>20637</td>\n",
       "      <td>7832</td>\n",
       "      <td>7657</td>\n",
       "      <td>1925.0</td>\n",
       "      <td>LC08_CU_004002_20250501_20250511_02_SR</td>\n",
       "      <td>1085:WA:SNTL</td>\n",
       "      <td>46.86956</td>\n",
       "      <td>-121.53434</td>\n",
       "      <td>5260.0</td>\n",
       "    </tr>\n",
       "    <tr>\n",
       "      <th>4</th>\n",
       "      <td>2025-05-18T18:49:11.983471Z</td>\n",
       "      <td>79</td>\n",
       "      <td>24109</td>\n",
       "      <td>23672</td>\n",
       "      <td>24416</td>\n",
       "      <td>23895.0</td>\n",
       "      <td>27251</td>\n",
       "      <td>12570</td>\n",
       "      <td>12144</td>\n",
       "      <td>NaN</td>\n",
       "      <td>LC09_CU_004002_20250518_20250721_02_SR</td>\n",
       "      <td>1085:WA:SNTL</td>\n",
       "      <td>46.86956</td>\n",
       "      <td>-121.53434</td>\n",
       "      <td>5260.0</td>\n",
       "    </tr>\n",
       "  </tbody>\n",
       "</table>\n",
       "</div>"
      ],
      "text/plain": [
       "                          date  snow_depth    red  green   blue  coastal  \\\n",
       "0  2025-05-10T18:49:15.298686Z          87  23783  24067  24563  24717.0   \n",
       "1  2025-05-26T18:49:08.643245Z          64  30420  30484  31724  31765.0   \n",
       "2  2025-04-24T18:49:03.983677Z         121  20230  20543  20727  19248.0   \n",
       "3  2025-05-01T18:55:04.333565Z         109  20102  19735  20009  18958.0   \n",
       "4  2025-05-18T18:49:11.983471Z          79  24109  23672  24416  23895.0   \n",
       "\n",
       "   nir08  swir16  swir22    fsca                                 item_id  \\\n",
       "0  24915   16878   17017   539.0  LC08_CU_004002_20250510_20250518_02_SR   \n",
       "1  30553   22723   18696   531.0  LC08_CU_004002_20250526_20250606_02_SR   \n",
       "2  21290    8042    7762   742.0  LC08_CU_004002_20250424_20250503_02_SR   \n",
       "3  20637    7832    7657  1925.0  LC08_CU_004002_20250501_20250511_02_SR   \n",
       "4  27251   12570   12144     NaN  LC09_CU_004002_20250518_20250721_02_SR   \n",
       "\n",
       "  station_triplet  latitude  longitude  elevation  \n",
       "0    1085:WA:SNTL  46.86956 -121.53434     5260.0  \n",
       "1    1085:WA:SNTL  46.86956 -121.53434     5260.0  \n",
       "2    1085:WA:SNTL  46.86956 -121.53434     5260.0  \n",
       "3    1085:WA:SNTL  46.86956 -121.53434     5260.0  \n",
       "4    1085:WA:SNTL  46.86956 -121.53434     5260.0  "
      ]
     },
     "execution_count": 14,
     "metadata": {},
     "output_type": "execute_result"
    }
   ],
   "source": [
    "# Load data\n",
    "df = pd.read_parquet('snotel_data.parquet')\n",
    "df.head()"
   ]
  },
  {
   "cell_type": "code",
   "execution_count": 57,
   "id": "9a3d742d-dabb-4399-89e7-923744c53af7",
   "metadata": {},
   "outputs": [],
   "source": [
    "df['datetime'] = pd.to_datetime(df['date'])\n",
    "df['month'] = df['datetime'].dt.month\n",
    "df['quarter'] = df['datetime'].dt.quarter"
   ]
  },
  {
   "cell_type": "code",
   "execution_count": 56,
   "id": "a660427e-d0b3-4631-ada0-75bf02ac6754",
   "metadata": {},
   "outputs": [
    {
     "data": {
      "text/html": [
       "<div>\n",
       "<style scoped>\n",
       "    .dataframe tbody tr th:only-of-type {\n",
       "        vertical-align: middle;\n",
       "    }\n",
       "\n",
       "    .dataframe tbody tr th {\n",
       "        vertical-align: top;\n",
       "    }\n",
       "\n",
       "    .dataframe thead th {\n",
       "        text-align: right;\n",
       "    }\n",
       "</style>\n",
       "<table border=\"1\" class=\"dataframe\">\n",
       "  <thead>\n",
       "    <tr style=\"text-align: right;\">\n",
       "      <th></th>\n",
       "      <th>date</th>\n",
       "      <th>snow_depth</th>\n",
       "      <th>red</th>\n",
       "      <th>green</th>\n",
       "      <th>blue</th>\n",
       "      <th>coastal</th>\n",
       "      <th>nir08</th>\n",
       "      <th>swir16</th>\n",
       "      <th>swir22</th>\n",
       "      <th>fsca</th>\n",
       "      <th>item_id</th>\n",
       "      <th>latitude</th>\n",
       "      <th>longitude</th>\n",
       "      <th>elevation</th>\n",
       "      <th>datetime</th>\n",
       "      <th>month</th>\n",
       "      <th>quarter</th>\n",
       "    </tr>\n",
       "    <tr>\n",
       "      <th>station_triplet</th>\n",
       "      <th></th>\n",
       "      <th></th>\n",
       "      <th></th>\n",
       "      <th></th>\n",
       "      <th></th>\n",
       "      <th></th>\n",
       "      <th></th>\n",
       "      <th></th>\n",
       "      <th></th>\n",
       "      <th></th>\n",
       "      <th></th>\n",
       "      <th></th>\n",
       "      <th></th>\n",
       "      <th></th>\n",
       "      <th></th>\n",
       "      <th></th>\n",
       "      <th></th>\n",
       "    </tr>\n",
       "  </thead>\n",
       "  <tbody>\n",
       "    <tr>\n",
       "      <th>1085:WA:SNTL</th>\n",
       "      <td>1502</td>\n",
       "      <td>1502</td>\n",
       "      <td>1502</td>\n",
       "      <td>1502</td>\n",
       "      <td>1502</td>\n",
       "      <td>712</td>\n",
       "      <td>1502</td>\n",
       "      <td>1502</td>\n",
       "      <td>1502</td>\n",
       "      <td>948</td>\n",
       "      <td>1502</td>\n",
       "      <td>1502</td>\n",
       "      <td>1502</td>\n",
       "      <td>1502</td>\n",
       "      <td>1502</td>\n",
       "      <td>1502</td>\n",
       "      <td>1502</td>\n",
       "    </tr>\n",
       "    <tr>\n",
       "      <th>1257:WA:SNTL</th>\n",
       "      <td>1858</td>\n",
       "      <td>1858</td>\n",
       "      <td>1858</td>\n",
       "      <td>1858</td>\n",
       "      <td>1858</td>\n",
       "      <td>1264</td>\n",
       "      <td>1858</td>\n",
       "      <td>1858</td>\n",
       "      <td>1858</td>\n",
       "      <td>1000</td>\n",
       "      <td>1858</td>\n",
       "      <td>1858</td>\n",
       "      <td>1858</td>\n",
       "      <td>1858</td>\n",
       "      <td>1858</td>\n",
       "      <td>1858</td>\n",
       "      <td>1858</td>\n",
       "    </tr>\n",
       "    <tr>\n",
       "      <th>642:WA:SNTL</th>\n",
       "      <td>1537</td>\n",
       "      <td>1537</td>\n",
       "      <td>1537</td>\n",
       "      <td>1537</td>\n",
       "      <td>1537</td>\n",
       "      <td>696</td>\n",
       "      <td>1537</td>\n",
       "      <td>1537</td>\n",
       "      <td>1537</td>\n",
       "      <td>1098</td>\n",
       "      <td>1537</td>\n",
       "      <td>1537</td>\n",
       "      <td>1537</td>\n",
       "      <td>1537</td>\n",
       "      <td>1537</td>\n",
       "      <td>1537</td>\n",
       "      <td>1537</td>\n",
       "    </tr>\n",
       "    <tr>\n",
       "      <th>679:WA:SNTL</th>\n",
       "      <td>1498</td>\n",
       "      <td>1498</td>\n",
       "      <td>1498</td>\n",
       "      <td>1498</td>\n",
       "      <td>1498</td>\n",
       "      <td>705</td>\n",
       "      <td>1498</td>\n",
       "      <td>1498</td>\n",
       "      <td>1498</td>\n",
       "      <td>1017</td>\n",
       "      <td>1498</td>\n",
       "      <td>1498</td>\n",
       "      <td>1498</td>\n",
       "      <td>1498</td>\n",
       "      <td>1498</td>\n",
       "      <td>1498</td>\n",
       "      <td>1498</td>\n",
       "    </tr>\n",
       "  </tbody>\n",
       "</table>\n",
       "</div>"
      ],
      "text/plain": [
       "                 date  snow_depth   red  green  blue  coastal  nir08  swir16  \\\n",
       "station_triplet                                                                \n",
       "1085:WA:SNTL     1502        1502  1502   1502  1502      712   1502    1502   \n",
       "1257:WA:SNTL     1858        1858  1858   1858  1858     1264   1858    1858   \n",
       "642:WA:SNTL      1537        1537  1537   1537  1537      696   1537    1537   \n",
       "679:WA:SNTL      1498        1498  1498   1498  1498      705   1498    1498   \n",
       "\n",
       "                 swir22  fsca  item_id  latitude  longitude  elevation  \\\n",
       "station_triplet                                                          \n",
       "1085:WA:SNTL       1502   948     1502      1502       1502       1502   \n",
       "1257:WA:SNTL       1858  1000     1858      1858       1858       1858   \n",
       "642:WA:SNTL        1537  1098     1537      1537       1537       1537   \n",
       "679:WA:SNTL        1498  1017     1498      1498       1498       1498   \n",
       "\n",
       "                 datetime  month  quarter  \n",
       "station_triplet                            \n",
       "1085:WA:SNTL         1502   1502     1502  \n",
       "1257:WA:SNTL         1858   1858     1858  \n",
       "642:WA:SNTL          1537   1537     1537  \n",
       "679:WA:SNTL          1498   1498     1498  "
      ]
     },
     "execution_count": 56,
     "metadata": {},
     "output_type": "execute_result"
    }
   ],
   "source": [
    "df.groupby('station_triplet').count()"
   ]
  },
  {
   "cell_type": "code",
   "execution_count": 58,
   "id": "1f5a9fac-29a2-49d8-9d60-307ab8f0b492",
   "metadata": {},
   "outputs": [
    {
     "data": {
      "text/html": [
       "<div>\n",
       "<style scoped>\n",
       "    .dataframe tbody tr th:only-of-type {\n",
       "        vertical-align: middle;\n",
       "    }\n",
       "\n",
       "    .dataframe tbody tr th {\n",
       "        vertical-align: top;\n",
       "    }\n",
       "\n",
       "    .dataframe thead th {\n",
       "        text-align: right;\n",
       "    }\n",
       "</style>\n",
       "<table border=\"1\" class=\"dataframe\">\n",
       "  <thead>\n",
       "    <tr style=\"text-align: right;\">\n",
       "      <th></th>\n",
       "      <th>date</th>\n",
       "      <th>snow_depth</th>\n",
       "      <th>red</th>\n",
       "      <th>green</th>\n",
       "      <th>blue</th>\n",
       "      <th>coastal</th>\n",
       "      <th>nir08</th>\n",
       "      <th>swir16</th>\n",
       "      <th>swir22</th>\n",
       "      <th>fsca</th>\n",
       "      <th>item_id</th>\n",
       "      <th>station_triplet</th>\n",
       "      <th>latitude</th>\n",
       "      <th>longitude</th>\n",
       "      <th>elevation</th>\n",
       "      <th>datetime</th>\n",
       "      <th>month</th>\n",
       "      <th>quarter</th>\n",
       "    </tr>\n",
       "  </thead>\n",
       "  <tbody>\n",
       "    <tr>\n",
       "      <th>0</th>\n",
       "      <td>2025-05-10T18:49:15.298686Z</td>\n",
       "      <td>87</td>\n",
       "      <td>23783</td>\n",
       "      <td>24067</td>\n",
       "      <td>24563</td>\n",
       "      <td>24717.0</td>\n",
       "      <td>24915</td>\n",
       "      <td>16878</td>\n",
       "      <td>17017</td>\n",
       "      <td>539.0</td>\n",
       "      <td>LC08_CU_004002_20250510_20250518_02_SR</td>\n",
       "      <td>1085:WA:SNTL</td>\n",
       "      <td>46.86956</td>\n",
       "      <td>-121.53434</td>\n",
       "      <td>5260.0</td>\n",
       "      <td>2025-05-10 18:49:15.298686+00:00</td>\n",
       "      <td>5</td>\n",
       "      <td>2</td>\n",
       "    </tr>\n",
       "    <tr>\n",
       "      <th>1</th>\n",
       "      <td>2025-05-26T18:49:08.643245Z</td>\n",
       "      <td>64</td>\n",
       "      <td>30420</td>\n",
       "      <td>30484</td>\n",
       "      <td>31724</td>\n",
       "      <td>31765.0</td>\n",
       "      <td>30553</td>\n",
       "      <td>22723</td>\n",
       "      <td>18696</td>\n",
       "      <td>531.0</td>\n",
       "      <td>LC08_CU_004002_20250526_20250606_02_SR</td>\n",
       "      <td>1085:WA:SNTL</td>\n",
       "      <td>46.86956</td>\n",
       "      <td>-121.53434</td>\n",
       "      <td>5260.0</td>\n",
       "      <td>2025-05-26 18:49:08.643245+00:00</td>\n",
       "      <td>5</td>\n",
       "      <td>2</td>\n",
       "    </tr>\n",
       "    <tr>\n",
       "      <th>2</th>\n",
       "      <td>2025-04-24T18:49:03.983677Z</td>\n",
       "      <td>121</td>\n",
       "      <td>20230</td>\n",
       "      <td>20543</td>\n",
       "      <td>20727</td>\n",
       "      <td>19248.0</td>\n",
       "      <td>21290</td>\n",
       "      <td>8042</td>\n",
       "      <td>7762</td>\n",
       "      <td>742.0</td>\n",
       "      <td>LC08_CU_004002_20250424_20250503_02_SR</td>\n",
       "      <td>1085:WA:SNTL</td>\n",
       "      <td>46.86956</td>\n",
       "      <td>-121.53434</td>\n",
       "      <td>5260.0</td>\n",
       "      <td>2025-04-24 18:49:03.983677+00:00</td>\n",
       "      <td>4</td>\n",
       "      <td>2</td>\n",
       "    </tr>\n",
       "    <tr>\n",
       "      <th>3</th>\n",
       "      <td>2025-05-01T18:55:04.333565Z</td>\n",
       "      <td>109</td>\n",
       "      <td>20102</td>\n",
       "      <td>19735</td>\n",
       "      <td>20009</td>\n",
       "      <td>18958.0</td>\n",
       "      <td>20637</td>\n",
       "      <td>7832</td>\n",
       "      <td>7657</td>\n",
       "      <td>NaN</td>\n",
       "      <td>LC08_CU_004002_20250501_20250511_02_SR</td>\n",
       "      <td>1085:WA:SNTL</td>\n",
       "      <td>46.86956</td>\n",
       "      <td>-121.53434</td>\n",
       "      <td>5260.0</td>\n",
       "      <td>2025-05-01 18:55:04.333565+00:00</td>\n",
       "      <td>5</td>\n",
       "      <td>2</td>\n",
       "    </tr>\n",
       "    <tr>\n",
       "      <th>4</th>\n",
       "      <td>2025-05-18T18:49:11.983471Z</td>\n",
       "      <td>79</td>\n",
       "      <td>24109</td>\n",
       "      <td>23672</td>\n",
       "      <td>24416</td>\n",
       "      <td>23895.0</td>\n",
       "      <td>27251</td>\n",
       "      <td>12570</td>\n",
       "      <td>12144</td>\n",
       "      <td>NaN</td>\n",
       "      <td>LC09_CU_004002_20250518_20250721_02_SR</td>\n",
       "      <td>1085:WA:SNTL</td>\n",
       "      <td>46.86956</td>\n",
       "      <td>-121.53434</td>\n",
       "      <td>5260.0</td>\n",
       "      <td>2025-05-18 18:49:11.983471+00:00</td>\n",
       "      <td>5</td>\n",
       "      <td>2</td>\n",
       "    </tr>\n",
       "  </tbody>\n",
       "</table>\n",
       "</div>"
      ],
      "text/plain": [
       "                          date  snow_depth    red  green   blue  coastal  \\\n",
       "0  2025-05-10T18:49:15.298686Z          87  23783  24067  24563  24717.0   \n",
       "1  2025-05-26T18:49:08.643245Z          64  30420  30484  31724  31765.0   \n",
       "2  2025-04-24T18:49:03.983677Z         121  20230  20543  20727  19248.0   \n",
       "3  2025-05-01T18:55:04.333565Z         109  20102  19735  20009  18958.0   \n",
       "4  2025-05-18T18:49:11.983471Z          79  24109  23672  24416  23895.0   \n",
       "\n",
       "   nir08  swir16  swir22   fsca                                 item_id  \\\n",
       "0  24915   16878   17017  539.0  LC08_CU_004002_20250510_20250518_02_SR   \n",
       "1  30553   22723   18696  531.0  LC08_CU_004002_20250526_20250606_02_SR   \n",
       "2  21290    8042    7762  742.0  LC08_CU_004002_20250424_20250503_02_SR   \n",
       "3  20637    7832    7657    NaN  LC08_CU_004002_20250501_20250511_02_SR   \n",
       "4  27251   12570   12144    NaN  LC09_CU_004002_20250518_20250721_02_SR   \n",
       "\n",
       "  station_triplet  latitude  longitude  elevation  \\\n",
       "0    1085:WA:SNTL  46.86956 -121.53434     5260.0   \n",
       "1    1085:WA:SNTL  46.86956 -121.53434     5260.0   \n",
       "2    1085:WA:SNTL  46.86956 -121.53434     5260.0   \n",
       "3    1085:WA:SNTL  46.86956 -121.53434     5260.0   \n",
       "4    1085:WA:SNTL  46.86956 -121.53434     5260.0   \n",
       "\n",
       "                          datetime  month  quarter  \n",
       "0 2025-05-10 18:49:15.298686+00:00      5        2  \n",
       "1 2025-05-26 18:49:08.643245+00:00      5        2  \n",
       "2 2025-04-24 18:49:03.983677+00:00      4        2  \n",
       "3 2025-05-01 18:55:04.333565+00:00      5        2  \n",
       "4 2025-05-18 18:49:11.983471+00:00      5        2  "
      ]
     },
     "execution_count": 58,
     "metadata": {},
     "output_type": "execute_result"
    }
   ],
   "source": [
    "df.head()"
   ]
  },
  {
   "cell_type": "code",
   "execution_count": 16,
   "id": "f4cb810e-f4a2-43a5-854a-1354e595aa90",
   "metadata": {},
   "outputs": [
    {
     "data": {
      "text/plain": [
       "<Axes: >"
      ]
     },
     "execution_count": 16,
     "metadata": {},
     "output_type": "execute_result"
    },
    {
     "data": {
      "image/png": "[encoded data removed]",
      "text/plain": [
       "<Figure size 640x480 with 1 Axes>"
      ]
     },
     "metadata": {},
     "output_type": "display_data"
    }
   ],
   "source": [
    "df.loc[~df['fsca'].between(0, 1000), 'fsca'] = None\n",
    "df.fsca.hist()"
   ]
  },
  {
   "cell_type": "code",
   "execution_count": 17,
   "id": "168878ff-a2d0-49f3-93c6-64ed7d99f159",
   "metadata": {},
   "outputs": [
    {
     "data": {
      "text/plain": [
       "<Axes: >"
      ]
     },
     "execution_count": 17,
     "metadata": {},
     "output_type": "execute_result"
    },
    {
     "data": {
      "image/png": "[encoded data removed]",
      "text/plain": [
       "<Figure size 640x480 with 1 Axes>"
      ]
     },
     "metadata": {},
     "output_type": "display_data"
    }
   ],
   "source": [
    "df.snow_depth.hist()"
   ]
  },
  {
   "cell_type": "code",
   "execution_count": 59,
   "id": "a07fd62f",
   "metadata": {},
   "outputs": [],
   "source": [
    "\n",
    "# Load input and output columns from data frame\n",
    "input_columns = [\"red\", \"green\", \"blue\", \"coastal\", \"nir08\", \"swir16\", \"swir22\", \"fsca\", \"latitude\", \"longitude\", \"elevation\", \"month\"]\n",
    "input_data = df[input_columns]\n",
    "output_columns = ['snow_depth']\n",
    "output_data = df[output_columns].values\n"
   ]
  },
  {
   "cell_type": "code",
   "execution_count": 60,
   "id": "74362b2b",
   "metadata": {},
   "outputs": [],
   "source": [
    "# Scale data\n",
    "X_scaler = MinMaxScaler()\n",
    "X_scaled = X_scaler.fit_transform(input_data).astype(np.float32)\n",
    "Y_scaler = MinMaxScaler()\n",
    "Y_scaled = Y_scaler.fit_transform(output_data).astype(np.float32)"
   ]
  },
  {
   "cell_type": "code",
   "execution_count": 61,
   "id": "eda9ee2b",
   "metadata": {},
   "outputs": [],
   "source": [
    "\n",
    "# Split data\n",
    "X_train, X_test, y_train, y_test = train_test_split(\n",
    "    X_scaled, Y_scaled, test_size=0.33, random_state=42)\n"
   ]
  },
  {
   "cell_type": "markdown",
   "id": "ca9744ba",
   "metadata": {},
   "source": [
    "# Train models\n",
    "\n",
    "## Linear model\n",
    "\n"
   ]
  },
  {
   "cell_type": "code",
   "execution_count": 9,
   "id": "30ba7c1f",
   "metadata": {},
   "outputs": [],
   "source": [
    "# linear_model = LinearRegression()\n",
    "# linear_model.fit(X_train, y_train)\n",
    "# linear_y_pred = linear_model.predict(X_test)\n",
    "# linear_pearsonr = pearsonr(linear_y_pred, y_test)\n",
    "# linear_pearsonr"
   ]
  },
  {
   "cell_type": "markdown",
   "id": "cb1af750",
   "metadata": {},
   "source": [
    "## Random Forest model"
   ]
  },
  {
   "cell_type": "code",
   "execution_count": 62,
   "id": "648ba895",
   "metadata": {},
   "outputs": [
    {
     "name": "stderr",
     "output_type": "stream",
     "text": [
      "/usr/local/lib64/python3.12/site-packages/sklearn/base.py:1365: DataConversionWarning: A column-vector y was passed when a 1d array was expected. Please change the shape of y to (n_samples,), for example using ravel().\n",
      "  return fit_method(estimator, *args, **kwargs)\n"
     ]
    },
    {
     "data": {
      "text/plain": [
       "PearsonRResult(statistic=np.float64(0.9063097505322335), pvalue=np.float64(0.0))"
      ]
     },
     "execution_count": 62,
     "metadata": {},
     "output_type": "execute_result"
    }
   ],
   "source": [
    "rf_model = RandomForestRegressor(n_estimators=100, random_state=42)\n",
    "rf_model.fit(X_train, y_train)\n",
    "random_forest_y_pred = rf_model.predict(X_test)\n",
    "random_forest_pearsonr = pearsonr(random_forest_y_pred, y_test[:,0])\n",
    "random_forest_pearsonr"
   ]
  },
  {
   "cell_type": "code",
   "execution_count": 63,
   "id": "96ad7a44",
   "metadata": {},
   "outputs": [
    {
     "data": {
      "text/plain": [
       "Text(0, 0.5, 'predicted snow depth')"
      ]
     },
     "execution_count": 63,
     "metadata": {},
     "output_type": "execute_result"
    },
    {
     "data": {
      "image/png": "[encoded data removed]",
      "text/plain": [
       "<Figure size 640x480 with 1 Axes>"
      ]
     },
     "metadata": {},
     "output_type": "display_data"
    }
   ],
   "source": [
    "plt.scatter(y_test[:,0], random_forest_y_pred)\n",
    "plt.xlabel(\"actual snow depth\")\n",
    "plt.ylabel(\"predicted snow depth\")"
   ]
  },
  {
   "cell_type": "code",
   "execution_count": 12,
   "id": "93f82bef",
   "metadata": {},
   "outputs": [
    {
     "name": "stdout",
     "output_type": "stream",
     "text": [
      "Models and scalers saved successfully!\n"
     ]
    }
   ],
   "source": [
    "# Save models and scalers\n",
    "import joblib\n",
    "\n",
    "# Save individual models\n",
    "joblib.dump(rf_model, 'random_forest_model.pkl')\n",
    "joblib.dump(X_scaler, 'X_scaler.pkl')\n",
    "joblib.dump(Y_scaler, 'Y_scaler.pkl')\n",
    "\n",
    "print(\"Models and scalers saved successfully!\")\n"
   ]
  },
  {
   "cell_type": "code",
   "execution_count": null,
   "id": "980b58fe",
   "metadata": {},
   "outputs": [],
   "source": []
  }
 ],
 "metadata": {
  "kernelspec": {
   "display_name": "Python 3 (ipykernel)",
   "language": "python",
   "name": "python3"
  },
  "language_info": {
   "codemirror_mode": {
    "name": "ipython",
    "version": 3
   },
   "file_extension": ".py",
   "mimetype": "text/x-python",
   "name": "python",
   "nbconvert_exporter": "python",
   "pygments_lexer": "ipython3",
   "version": "3.12.11"
  }
 },
 "nbformat": 4,
 "nbformat_minor": 5
}
